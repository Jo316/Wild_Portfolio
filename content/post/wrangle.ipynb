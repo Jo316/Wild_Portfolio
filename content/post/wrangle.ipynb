{
 "cells": [
  {
   "cell_type": "code",
   "execution_count": 616,
   "metadata": {},
   "outputs": [],
   "source": [
    "import pandas as pd\n",
    "import numpy as np\n",
    "import requests\n",
    "import tweepy\n",
    "import json\n",
    "import matplotlib.pyplot as plt"
   ]
  },
  {
   "cell_type": "markdown",
   "metadata": {},
   "source": [
    "## 1. Gathering "
   ]
  },
  {
   "cell_type": "code",
   "execution_count": 763,
   "metadata": {},
   "outputs": [],
   "source": [
    "# loading data (file) from the local machine \n",
    "twitter_archive_df = pd.read_csv('twitter-archive-enhanced.csv')\n",
    "twitter_archive_df = twitter_archive_df.sort_values('timestamp')"
   ]
  },
  {
   "cell_type": "code",
   "execution_count": 764,
   "metadata": {},
   "outputs": [],
   "source": [
    "# downloading data (file) from the udacity server?\n",
    "# use V ML structure \n",
    "local = True\n",
    "if local:\n",
    "    image_predictions_df = pd.read_csv('image-predictions.tsv', sep='\\t')  \n",
    "else:\n",
    "    url = \"https://d17h27t6h515a5.cloudfront.net/topher/2017/August/599fd2ad_image-predictions/image-predictions.tsv\"\n",
    "    response = requests.get(url)\n",
    "    \n",
    "    with open('image-predictions.tsv', mode='wb') as file:\n",
    "        file.write(response.content)\n",
    "\n",
    "    image_predictions_df = pd.read_csv('image-predictions.tsv', sep='\\t')"
   ]
  },
  {
   "cell_type": "code",
   "execution_count": null,
   "metadata": {},
   "outputs": [],
   "source": []
  },
  {
   "cell_type": "code",
   "execution_count": 23,
   "metadata": {},
   "outputs": [
    {
     "name": "stdout",
     "output_type": "stream",
     "text": [
      "Error: tweet missing\n"
     ]
    },
    {
     "name": "stderr",
     "output_type": "stream",
     "text": [
      "Rate limit reached. Sleeping for: 569\n"
     ]
    },
    {
     "name": "stdout",
     "output_type": "stream",
     "text": [
      "Error: tweet missing\n",
      "Error: tweet missing\n",
      "Error: tweet missing\n",
      "Error: tweet missing\n",
      "Error: tweet missing\n",
      "Error: tweet missing\n"
     ]
    },
    {
     "name": "stderr",
     "output_type": "stream",
     "text": [
      "Rate limit reached. Sleeping for: 285\n"
     ]
    },
    {
     "name": "stdout",
     "output_type": "stream",
     "text": [
      "Error: tweet missing\n",
      "Error: tweet missing\n",
      "Error: tweet missing\n",
      "Error: tweet missing\n",
      "Error: tweet missing\n",
      "Error: tweet missing\n",
      "Error: tweet missing\n",
      "Error: tweet missing\n",
      "Error: tweet missing\n",
      "Error: tweet missing\n",
      "Error: tweet missing\n",
      "Error: tweet missing\n"
     ]
    }
   ],
   "source": [
    "# Downloading data using Twitter API\n",
    "\n",
    "consumer_key = '0zVspBBQa5oKRvJKqNsBQlmnD'\n",
    "consumer_secret = 'CnVmOlDSD4L6aZAwjmOUywwFetvx6dU56m1bHnVNd9eQDS9ci0'\n",
    "access_token = '1104226106671054848-jAnH6BPqkd2mnmsifIFdK7dDlYWryH'\n",
    "access_secret = 'igQcy4hawlG0HkNzVA6Po0Sxvp34Elf5VhjXc2ZCnkYCf'\n",
    "\n",
    "auth = tweepy.OAuthHandler(consumer_key, consumer_secret)\n",
    "auth.set_access_token(access_token, access_secret)\n",
    "\n",
    "api = tweepy.API(auth, wait_on_rate_limit = True, wait_on_rate_limit_notify = True)\n",
    "\n",
    "tweet_ids = twitter_archive_df.tweet_id.values\n",
    "\n",
    "with open('tweet_json.txt', 'w') as output:\n",
    "    for tweet_id in tweet_ids:\n",
    "        try:\n",
    "            tweet = api.get_status(tweet_id, tweet_mode='extended')\n",
    "            json.dump(tweet._json, output)\n",
    "            output.write('\\n')\n",
    "        except tweepy.TweepError:\n",
    "            print('Error: tweet missing')"
   ]
  },
  {
   "cell_type": "code",
   "execution_count": 24,
   "metadata": {},
   "outputs": [],
   "source": [
    "# writting jason file \n",
    "tweets_list =[]\n",
    "\n",
    "with open('tweet_json.txt') as json_file:\n",
    "    for line in json_file:\n",
    "    \n",
    "        tweets_dict = {}\n",
    "        tweets_json = json.loads(line)\n",
    "        \n",
    "        try:\n",
    "            tweets_dict['tweet_id'] = tweets_json['extended_entities']['media'][0]['id']\n",
    "        except:\n",
    "            tweets_dict['tweet_id'] = 'na'\n",
    "\n",
    "        tweets_dict['retweet_count'] = tweets_json['retweet_count']\n",
    "        tweets_dict['favorite_count'] = tweets_json['favorite_count']\n",
    "        \n",
    "        tweets_list.append(tweets_dict)"
   ]
  },
  {
   "cell_type": "code",
   "execution_count": 543,
   "metadata": {},
   "outputs": [],
   "source": [
    "# converting to dataframe\n",
    "tweets_df = pd.DataFrame(tweets_list)"
   ]
  },
  {
   "cell_type": "markdown",
   "metadata": {},
   "source": [
    "## 2.Assessing "
   ]
  },
  {
   "cell_type": "markdown",
   "metadata": {},
   "source": [
    "2.1 Assessing twitter_archive_df "
   ]
  },
  {
   "cell_type": "code",
   "execution_count": 765,
   "metadata": {},
   "outputs": [
    {
     "data": {
      "text/html": [
       "<div>\n",
       "<style scoped>\n",
       "    .dataframe tbody tr th:only-of-type {\n",
       "        vertical-align: middle;\n",
       "    }\n",
       "\n",
       "    .dataframe tbody tr th {\n",
       "        vertical-align: top;\n",
       "    }\n",
       "\n",
       "    .dataframe thead th {\n",
       "        text-align: right;\n",
       "    }\n",
       "</style>\n",
       "<table border=\"1\" class=\"dataframe\">\n",
       "  <thead>\n",
       "    <tr style=\"text-align: right;\">\n",
       "      <th></th>\n",
       "      <th>tweet_id</th>\n",
       "      <th>in_reply_to_status_id</th>\n",
       "      <th>in_reply_to_user_id</th>\n",
       "      <th>timestamp</th>\n",
       "      <th>source</th>\n",
       "      <th>text</th>\n",
       "      <th>retweeted_status_id</th>\n",
       "      <th>retweeted_status_user_id</th>\n",
       "      <th>retweeted_status_timestamp</th>\n",
       "      <th>expanded_urls</th>\n",
       "      <th>rating_numerator</th>\n",
       "      <th>rating_denominator</th>\n",
       "      <th>name</th>\n",
       "      <th>doggo</th>\n",
       "      <th>floofer</th>\n",
       "      <th>pupper</th>\n",
       "      <th>puppo</th>\n",
       "    </tr>\n",
       "  </thead>\n",
       "  <tbody>\n",
       "    <tr>\n",
       "      <th>294</th>\n",
       "      <td>837482249356513284</td>\n",
       "      <td>NaN</td>\n",
       "      <td>NaN</td>\n",
       "      <td>2017-03-03 01:58:22 +0000</td>\n",
       "      <td>&lt;a href=\"http://twitter.com/download/iphone\" r...</td>\n",
       "      <td>This is Waffles. He's a ship captain in real l...</td>\n",
       "      <td>NaN</td>\n",
       "      <td>NaN</td>\n",
       "      <td>NaN</td>\n",
       "      <td>https://twitter.com/dog_rates/status/837482249...</td>\n",
       "      <td>13</td>\n",
       "      <td>10</td>\n",
       "      <td>Waffles</td>\n",
       "      <td>None</td>\n",
       "      <td>None</td>\n",
       "      <td>None</td>\n",
       "      <td>None</td>\n",
       "    </tr>\n",
       "    <tr>\n",
       "      <th>221</th>\n",
       "      <td>849776966551130114</td>\n",
       "      <td>NaN</td>\n",
       "      <td>NaN</td>\n",
       "      <td>2017-04-06 00:13:11 +0000</td>\n",
       "      <td>&lt;a href=\"http://twitter.com/download/iphone\" r...</td>\n",
       "      <td>Seriously guys? Again? We only rate dogs. Plea...</td>\n",
       "      <td>NaN</td>\n",
       "      <td>NaN</td>\n",
       "      <td>NaN</td>\n",
       "      <td>https://twitter.com/dog_rates/status/849776966...</td>\n",
       "      <td>12</td>\n",
       "      <td>10</td>\n",
       "      <td>None</td>\n",
       "      <td>None</td>\n",
       "      <td>None</td>\n",
       "      <td>None</td>\n",
       "      <td>None</td>\n",
       "    </tr>\n",
       "    <tr>\n",
       "      <th>866</th>\n",
       "      <td>762035686371364864</td>\n",
       "      <td>NaN</td>\n",
       "      <td>NaN</td>\n",
       "      <td>2016-08-06 21:20:40 +0000</td>\n",
       "      <td>&lt;a href=\"http://twitter.com/download/iphone\" r...</td>\n",
       "      <td>This left me speechless. 14/10 heckin heroic a...</td>\n",
       "      <td>NaN</td>\n",
       "      <td>NaN</td>\n",
       "      <td>NaN</td>\n",
       "      <td>https://twitter.com/dog_rates/status/762035686...</td>\n",
       "      <td>14</td>\n",
       "      <td>10</td>\n",
       "      <td>None</td>\n",
       "      <td>None</td>\n",
       "      <td>None</td>\n",
       "      <td>None</td>\n",
       "      <td>None</td>\n",
       "    </tr>\n",
       "    <tr>\n",
       "      <th>1725</th>\n",
       "      <td>680070545539371008</td>\n",
       "      <td>NaN</td>\n",
       "      <td>NaN</td>\n",
       "      <td>2015-12-24 17:00:27 +0000</td>\n",
       "      <td>&lt;a href=\"https://about.twitter.com/products/tw...</td>\n",
       "      <td>Say hello to Emmie. She's trapped in an orname...</td>\n",
       "      <td>NaN</td>\n",
       "      <td>NaN</td>\n",
       "      <td>NaN</td>\n",
       "      <td>https://twitter.com/dog_rates/status/680070545...</td>\n",
       "      <td>9</td>\n",
       "      <td>10</td>\n",
       "      <td>Emmie</td>\n",
       "      <td>None</td>\n",
       "      <td>None</td>\n",
       "      <td>None</td>\n",
       "      <td>None</td>\n",
       "    </tr>\n",
       "    <tr>\n",
       "      <th>1270</th>\n",
       "      <td>709449600415961088</td>\n",
       "      <td>NaN</td>\n",
       "      <td>NaN</td>\n",
       "      <td>2016-03-14 18:42:20 +0000</td>\n",
       "      <td>&lt;a href=\"http://twitter.com/download/iphone\" r...</td>\n",
       "      <td>Meet Karma. She's just a head. Lost body durin...</td>\n",
       "      <td>NaN</td>\n",
       "      <td>NaN</td>\n",
       "      <td>NaN</td>\n",
       "      <td>https://twitter.com/dog_rates/status/709449600...</td>\n",
       "      <td>10</td>\n",
       "      <td>10</td>\n",
       "      <td>Karma</td>\n",
       "      <td>None</td>\n",
       "      <td>None</td>\n",
       "      <td>None</td>\n",
       "      <td>None</td>\n",
       "    </tr>\n",
       "    <tr>\n",
       "      <th>2178</th>\n",
       "      <td>669015743032369152</td>\n",
       "      <td>NaN</td>\n",
       "      <td>NaN</td>\n",
       "      <td>2015-11-24 04:52:37 +0000</td>\n",
       "      <td>&lt;a href=\"http://twitter.com/download/iphone\" r...</td>\n",
       "      <td>Super rare dog right here guys. Doesn't bark. ...</td>\n",
       "      <td>NaN</td>\n",
       "      <td>NaN</td>\n",
       "      <td>NaN</td>\n",
       "      <td>https://twitter.com/dog_rates/status/669015743...</td>\n",
       "      <td>10</td>\n",
       "      <td>10</td>\n",
       "      <td>None</td>\n",
       "      <td>None</td>\n",
       "      <td>None</td>\n",
       "      <td>None</td>\n",
       "      <td>None</td>\n",
       "    </tr>\n",
       "    <tr>\n",
       "      <th>1185</th>\n",
       "      <td>718613305783398402</td>\n",
       "      <td>NaN</td>\n",
       "      <td>NaN</td>\n",
       "      <td>2016-04-09 01:35:37 +0000</td>\n",
       "      <td>&lt;a href=\"http://twitter.com/download/iphone\" r...</td>\n",
       "      <td>This is Carper. He's a Tortellini Angiosperm. ...</td>\n",
       "      <td>NaN</td>\n",
       "      <td>NaN</td>\n",
       "      <td>NaN</td>\n",
       "      <td>https://twitter.com/dog_rates/status/718613305...</td>\n",
       "      <td>11</td>\n",
       "      <td>10</td>\n",
       "      <td>Carper</td>\n",
       "      <td>None</td>\n",
       "      <td>None</td>\n",
       "      <td>None</td>\n",
       "      <td>None</td>\n",
       "    </tr>\n",
       "    <tr>\n",
       "      <th>620</th>\n",
       "      <td>796125600683540480</td>\n",
       "      <td>NaN</td>\n",
       "      <td>NaN</td>\n",
       "      <td>2016-11-08 23:01:49 +0000</td>\n",
       "      <td>&lt;a href=\"http://twitter.com/download/iphone\" r...</td>\n",
       "      <td>#ImWithThor 13/10\\nhttps://t.co/a18mzkhTf6</td>\n",
       "      <td>NaN</td>\n",
       "      <td>NaN</td>\n",
       "      <td>NaN</td>\n",
       "      <td>https://twitter.com/king5seattle/status/796123...</td>\n",
       "      <td>13</td>\n",
       "      <td>10</td>\n",
       "      <td>None</td>\n",
       "      <td>None</td>\n",
       "      <td>None</td>\n",
       "      <td>None</td>\n",
       "      <td>None</td>\n",
       "    </tr>\n",
       "    <tr>\n",
       "      <th>1945</th>\n",
       "      <td>673707060090052608</td>\n",
       "      <td>NaN</td>\n",
       "      <td>NaN</td>\n",
       "      <td>2015-12-07 03:34:14 +0000</td>\n",
       "      <td>&lt;a href=\"http://twitter.com/download/iphone\" r...</td>\n",
       "      <td>This is Raymond. He's absolutely terrified of ...</td>\n",
       "      <td>NaN</td>\n",
       "      <td>NaN</td>\n",
       "      <td>NaN</td>\n",
       "      <td>https://twitter.com/dog_rates/status/673707060...</td>\n",
       "      <td>10</td>\n",
       "      <td>10</td>\n",
       "      <td>Raymond</td>\n",
       "      <td>None</td>\n",
       "      <td>None</td>\n",
       "      <td>pupper</td>\n",
       "      <td>None</td>\n",
       "    </tr>\n",
       "    <tr>\n",
       "      <th>2195</th>\n",
       "      <td>668872652652679168</td>\n",
       "      <td>NaN</td>\n",
       "      <td>NaN</td>\n",
       "      <td>2015-11-23 19:24:02 +0000</td>\n",
       "      <td>&lt;a href=\"http://twitter.com/download/iphone\" r...</td>\n",
       "      <td>This is Amélie. She is a confident white colle...</td>\n",
       "      <td>NaN</td>\n",
       "      <td>NaN</td>\n",
       "      <td>NaN</td>\n",
       "      <td>https://twitter.com/dog_rates/status/668872652...</td>\n",
       "      <td>11</td>\n",
       "      <td>10</td>\n",
       "      <td>Amélie</td>\n",
       "      <td>None</td>\n",
       "      <td>None</td>\n",
       "      <td>None</td>\n",
       "      <td>None</td>\n",
       "    </tr>\n",
       "  </tbody>\n",
       "</table>\n",
       "</div>"
      ],
      "text/plain": [
       "                tweet_id  in_reply_to_status_id  in_reply_to_user_id  \\\n",
       "294   837482249356513284                    NaN                  NaN   \n",
       "221   849776966551130114                    NaN                  NaN   \n",
       "866   762035686371364864                    NaN                  NaN   \n",
       "1725  680070545539371008                    NaN                  NaN   \n",
       "1270  709449600415961088                    NaN                  NaN   \n",
       "2178  669015743032369152                    NaN                  NaN   \n",
       "1185  718613305783398402                    NaN                  NaN   \n",
       "620   796125600683540480                    NaN                  NaN   \n",
       "1945  673707060090052608                    NaN                  NaN   \n",
       "2195  668872652652679168                    NaN                  NaN   \n",
       "\n",
       "                      timestamp  \\\n",
       "294   2017-03-03 01:58:22 +0000   \n",
       "221   2017-04-06 00:13:11 +0000   \n",
       "866   2016-08-06 21:20:40 +0000   \n",
       "1725  2015-12-24 17:00:27 +0000   \n",
       "1270  2016-03-14 18:42:20 +0000   \n",
       "2178  2015-11-24 04:52:37 +0000   \n",
       "1185  2016-04-09 01:35:37 +0000   \n",
       "620   2016-11-08 23:01:49 +0000   \n",
       "1945  2015-12-07 03:34:14 +0000   \n",
       "2195  2015-11-23 19:24:02 +0000   \n",
       "\n",
       "                                                 source  \\\n",
       "294   <a href=\"http://twitter.com/download/iphone\" r...   \n",
       "221   <a href=\"http://twitter.com/download/iphone\" r...   \n",
       "866   <a href=\"http://twitter.com/download/iphone\" r...   \n",
       "1725  <a href=\"https://about.twitter.com/products/tw...   \n",
       "1270  <a href=\"http://twitter.com/download/iphone\" r...   \n",
       "2178  <a href=\"http://twitter.com/download/iphone\" r...   \n",
       "1185  <a href=\"http://twitter.com/download/iphone\" r...   \n",
       "620   <a href=\"http://twitter.com/download/iphone\" r...   \n",
       "1945  <a href=\"http://twitter.com/download/iphone\" r...   \n",
       "2195  <a href=\"http://twitter.com/download/iphone\" r...   \n",
       "\n",
       "                                                   text  retweeted_status_id  \\\n",
       "294   This is Waffles. He's a ship captain in real l...                  NaN   \n",
       "221   Seriously guys? Again? We only rate dogs. Plea...                  NaN   \n",
       "866   This left me speechless. 14/10 heckin heroic a...                  NaN   \n",
       "1725  Say hello to Emmie. She's trapped in an orname...                  NaN   \n",
       "1270  Meet Karma. She's just a head. Lost body durin...                  NaN   \n",
       "2178  Super rare dog right here guys. Doesn't bark. ...                  NaN   \n",
       "1185  This is Carper. He's a Tortellini Angiosperm. ...                  NaN   \n",
       "620          #ImWithThor 13/10\\nhttps://t.co/a18mzkhTf6                  NaN   \n",
       "1945  This is Raymond. He's absolutely terrified of ...                  NaN   \n",
       "2195  This is Amélie. She is a confident white colle...                  NaN   \n",
       "\n",
       "      retweeted_status_user_id retweeted_status_timestamp  \\\n",
       "294                        NaN                        NaN   \n",
       "221                        NaN                        NaN   \n",
       "866                        NaN                        NaN   \n",
       "1725                       NaN                        NaN   \n",
       "1270                       NaN                        NaN   \n",
       "2178                       NaN                        NaN   \n",
       "1185                       NaN                        NaN   \n",
       "620                        NaN                        NaN   \n",
       "1945                       NaN                        NaN   \n",
       "2195                       NaN                        NaN   \n",
       "\n",
       "                                          expanded_urls  rating_numerator  \\\n",
       "294   https://twitter.com/dog_rates/status/837482249...                13   \n",
       "221   https://twitter.com/dog_rates/status/849776966...                12   \n",
       "866   https://twitter.com/dog_rates/status/762035686...                14   \n",
       "1725  https://twitter.com/dog_rates/status/680070545...                 9   \n",
       "1270  https://twitter.com/dog_rates/status/709449600...                10   \n",
       "2178  https://twitter.com/dog_rates/status/669015743...                10   \n",
       "1185  https://twitter.com/dog_rates/status/718613305...                11   \n",
       "620   https://twitter.com/king5seattle/status/796123...                13   \n",
       "1945  https://twitter.com/dog_rates/status/673707060...                10   \n",
       "2195  https://twitter.com/dog_rates/status/668872652...                11   \n",
       "\n",
       "      rating_denominator     name doggo floofer  pupper puppo  \n",
       "294                   10  Waffles  None    None    None  None  \n",
       "221                   10     None  None    None    None  None  \n",
       "866                   10     None  None    None    None  None  \n",
       "1725                  10    Emmie  None    None    None  None  \n",
       "1270                  10    Karma  None    None    None  None  \n",
       "2178                  10     None  None    None    None  None  \n",
       "1185                  10   Carper  None    None    None  None  \n",
       "620                   10     None  None    None    None  None  \n",
       "1945                  10  Raymond  None    None  pupper  None  \n",
       "2195                  10   Amélie  None    None    None  None  "
      ]
     },
     "execution_count": 765,
     "metadata": {},
     "output_type": "execute_result"
    }
   ],
   "source": [
    "# sample some for vizual assessing.Only briefly. bacause there too many data observations\n",
    "# more efficient way is  programmatically \n",
    "twitter_archive_df.sample(10)"
   ]
  },
  {
   "cell_type": "code",
   "execution_count": 762,
   "metadata": {},
   "outputs": [
    {
     "name": "stdout",
     "output_type": "stream",
     "text": [
      "<class 'pandas.core.frame.DataFrame'>\n",
      "Int64Index: 2356 entries, 2355 to 0\n",
      "Data columns (total 17 columns):\n",
      "tweet_id                      2356 non-null int64\n",
      "in_reply_to_status_id         78 non-null float64\n",
      "in_reply_to_user_id           78 non-null float64\n",
      "timestamp                     2356 non-null object\n",
      "source                        2356 non-null object\n",
      "text                          2356 non-null object\n",
      "retweeted_status_id           181 non-null float64\n",
      "retweeted_status_user_id      181 non-null float64\n",
      "retweeted_status_timestamp    181 non-null object\n",
      "expanded_urls                 2297 non-null object\n",
      "rating_numerator              2356 non-null int64\n",
      "rating_denominator            2356 non-null int64\n",
      "name                          2356 non-null object\n",
      "doggo                         2356 non-null object\n",
      "floofer                       2356 non-null object\n",
      "pupper                        2356 non-null object\n",
      "puppo                         2356 non-null object\n",
      "dtypes: float64(4), int64(3), object(10)\n",
      "memory usage: 331.3+ KB\n"
     ]
    }
   ],
   "source": [
    "# summarising the data. The output shows that there are missing values\n",
    "twitter_archive_df.info()"
   ]
  },
  {
   "cell_type": "code",
   "execution_count": 621,
   "metadata": {},
   "outputs": [
    {
     "data": {
      "text/plain": [
       "tweet_id                         0\n",
       "in_reply_to_status_id         2278\n",
       "in_reply_to_user_id           2278\n",
       "timestamp                        0\n",
       "source                           0\n",
       "text                             0\n",
       "retweeted_status_id           2175\n",
       "retweeted_status_user_id      2175\n",
       "retweeted_status_timestamp    2175\n",
       "expanded_urls                   59\n",
       "rating_numerator                 0\n",
       "rating_denominator               0\n",
       "name                             0\n",
       "doggo                            0\n",
       "floofer                          0\n",
       "pupper                           0\n",
       "puppo                            0\n",
       "dtype: int64"
      ]
     },
     "execution_count": 621,
     "metadata": {},
     "output_type": "execute_result"
    }
   ],
   "source": [
    "# checing for null values in twitter_archive_df \n",
    "twitter_archive_df.isnull().sum()"
   ]
  },
  {
   "cell_type": "markdown",
   "metadata": {},
   "source": [
    "in_reply_to_status_id   and    in_reply_to_user_id  have   2278 null values\n",
    "\n",
    "retweeted_status_id, retweeted_status_user_id , retweeted_status_timestamp 2175 null values\n",
    "\n",
    "expanded_urls   59 null values"
   ]
  },
  {
   "cell_type": "code",
   "execution_count": 622,
   "metadata": {},
   "outputs": [
    {
     "data": {
      "text/plain": [
       "0"
      ]
     },
     "execution_count": 622,
     "metadata": {},
     "output_type": "execute_result"
    }
   ],
   "source": [
    "# checking for duplicates in the datset. the output show no duplicates in the dataset\n",
    "twitter_archive_df.duplicated().sum()"
   ]
  },
  {
   "cell_type": "code",
   "execution_count": 623,
   "metadata": {},
   "outputs": [
    {
     "data": {
      "text/plain": [
       "12      558\n",
       "11      464\n",
       "10      461\n",
       "13      351\n",
       "9       158\n",
       "8       102\n",
       "7        55\n",
       "14       54\n",
       "5        37\n",
       "6        32\n",
       "3        19\n",
       "4        17\n",
       "1         9\n",
       "2         9\n",
       "420       2\n",
       "0         2\n",
       "15        2\n",
       "75        2\n",
       "80        1\n",
       "20        1\n",
       "24        1\n",
       "26        1\n",
       "44        1\n",
       "50        1\n",
       "60        1\n",
       "165       1\n",
       "84        1\n",
       "88        1\n",
       "144       1\n",
       "182       1\n",
       "143       1\n",
       "666       1\n",
       "960       1\n",
       "1776      1\n",
       "17        1\n",
       "27        1\n",
       "45        1\n",
       "99        1\n",
       "121       1\n",
       "204       1\n",
       "Name: rating_numerator, dtype: int64"
      ]
     },
     "execution_count": 623,
     "metadata": {},
     "output_type": "execute_result"
    }
   ],
   "source": [
    "# checking for rating numerator. 12 is the most common.\n",
    "twitter_archive_df.rating_numerator.value_counts()"
   ]
  },
  {
   "cell_type": "code",
   "execution_count": 624,
   "metadata": {},
   "outputs": [
    {
     "data": {
      "text/plain": [
       "<matplotlib.axes._subplots.AxesSubplot at 0x11e9d3ba8>"
      ]
     },
     "execution_count": 624,
     "metadata": {},
     "output_type": "execute_result"
    },
    {
     "data": {
      "image/png": "[encoded data removed]",
      "text/plain": [
       "<Figure size 1440x648 with 1 Axes>"
      ]
     },
     "metadata": {
      "needs_background": "light"
     },
     "output_type": "display_data"
    }
   ],
   "source": [
    "twitter_archive_df.rating_numerator.value_counts().plot.bar(figsize=(20,9))"
   ]
  },
  {
   "cell_type": "code",
   "execution_count": 625,
   "metadata": {},
   "outputs": [],
   "source": [
    "#  whats the reasonable score greater than 20"
   ]
  },
  {
   "cell_type": "code",
   "execution_count": 626,
   "metadata": {},
   "outputs": [
    {
     "data": {
      "text/plain": [
       "10     2333\n",
       "11        3\n",
       "50        3\n",
       "80        2\n",
       "20        2\n",
       "2         1\n",
       "16        1\n",
       "40        1\n",
       "70        1\n",
       "15        1\n",
       "90        1\n",
       "110       1\n",
       "120       1\n",
       "130       1\n",
       "150       1\n",
       "170       1\n",
       "7         1\n",
       "0         1\n",
       "Name: rating_denominator, dtype: int64"
      ]
     },
     "execution_count": 626,
     "metadata": {},
     "output_type": "execute_result"
    }
   ],
   "source": [
    "# checking for rating denominator. 10 is the most common. Are values above 10 wrong\n",
    "twitter_archive_df.rating_denominator.value_counts()"
   ]
  },
  {
   "cell_type": "code",
   "execution_count": 627,
   "metadata": {},
   "outputs": [
    {
     "data": {
      "text/plain": [
       "None           745\n",
       "a               55\n",
       "Charlie         12\n",
       "Cooper          11\n",
       "Lucy            11\n",
       "Oliver          11\n",
       "Tucker          10\n",
       "Lola            10\n",
       "Penny           10\n",
       "Bo               9\n",
       "Winston          9\n",
       "the              8\n",
       "Sadie            8\n",
       "Toby             7\n",
       "an               7\n",
       "Bailey           7\n",
       "Buddy            7\n",
       "Daisy            7\n",
       "Scout            6\n",
       "Stanley          6\n",
       "Leo              6\n",
       "Oscar            6\n",
       "Jax              6\n",
       "Koda             6\n",
       "Rusty            6\n",
       "Bella            6\n",
       "Jack             6\n",
       "Milo             6\n",
       "Dave             6\n",
       "Sammy            5\n",
       "              ... \n",
       "Lucky            1\n",
       "Remy             1\n",
       "Goliath          1\n",
       "infuriating      1\n",
       "Heinrich         1\n",
       "Ruffles          1\n",
       "Dallas           1\n",
       "Stark            1\n",
       "Kuyu             1\n",
       "Brady            1\n",
       "Geoff            1\n",
       "Jaycob           1\n",
       "Yoda             1\n",
       "Kial             1\n",
       "Daniel           1\n",
       "Snicku           1\n",
       "Georgie          1\n",
       "Tom              1\n",
       "Gordon           1\n",
       "Koko             1\n",
       "Jessifer         1\n",
       "Venti            1\n",
       "Rodman           1\n",
       "Chevy            1\n",
       "Juckson          1\n",
       "Creg             1\n",
       "Murphy           1\n",
       "Emanuel          1\n",
       "Vinscent         1\n",
       "officially       1\n",
       "Name: name, Length: 957, dtype: int64"
      ]
     },
     "execution_count": 627,
     "metadata": {},
     "output_type": "execute_result"
    }
   ],
   "source": [
    "# checking for the frequency of names. the most commom is Charlie. Issues: are a=55, an=7,\n",
    "# some names start with lower case while most with Capital\n",
    "twitter_archive_df.name.value_counts()"
   ]
  },
  {
   "cell_type": "code",
   "execution_count": 628,
   "metadata": {},
   "outputs": [
    {
     "data": {
      "text/plain": [
       "None     2259\n",
       "doggo      97\n",
       "Name: doggo, dtype: int64"
      ]
     },
     "execution_count": 628,
     "metadata": {},
     "output_type": "execute_result"
    }
   ],
   "source": [
    "# checking for the frequency of names. The most values are None  \n",
    "twitter_archive_df.doggo.value_counts()"
   ]
  },
  {
   "cell_type": "code",
   "execution_count": 629,
   "metadata": {},
   "outputs": [
    {
     "data": {
      "text/plain": [
       "None       2346\n",
       "floofer      10\n",
       "Name: floofer, dtype: int64"
      ]
     },
     "execution_count": 629,
     "metadata": {},
     "output_type": "execute_result"
    }
   ],
   "source": [
    "# checking for the frequency of names. The most values are None \n",
    "twitter_archive_df.floofer.value_counts()"
   ]
  },
  {
   "cell_type": "code",
   "execution_count": 630,
   "metadata": {},
   "outputs": [
    {
     "data": {
      "text/plain": [
       "None       2346\n",
       "floofer      10\n",
       "Name: floofer, dtype: int64"
      ]
     },
     "execution_count": 630,
     "metadata": {},
     "output_type": "execute_result"
    }
   ],
   "source": [
    "# checking for the frequency of names. The most values are None \n",
    "twitter_archive_df.floofer.value_counts()"
   ]
  },
  {
   "cell_type": "code",
   "execution_count": 631,
   "metadata": {},
   "outputs": [
    {
     "data": {
      "text/plain": [
       "None      2099\n",
       "pupper     257\n",
       "Name: pupper, dtype: int64"
      ]
     },
     "execution_count": 631,
     "metadata": {},
     "output_type": "execute_result"
    }
   ],
   "source": [
    "# checking for the frequency of names. The most values are None \n",
    "twitter_archive_df.pupper.value_counts()"
   ]
  },
  {
   "cell_type": "code",
   "execution_count": 632,
   "metadata": {},
   "outputs": [
    {
     "data": {
      "text/plain": [
       "None     2326\n",
       "puppo      30\n",
       "Name: puppo, dtype: int64"
      ]
     },
     "execution_count": 632,
     "metadata": {},
     "output_type": "execute_result"
    }
   ],
   "source": [
    "# checking for the frequency of names. The most values are None \n",
    "twitter_archive_df.puppo.value_counts()"
   ]
  },
  {
   "cell_type": "markdown",
   "metadata": {},
   "source": [
    "2.2 Assessing image_predictions_df"
   ]
  },
  {
   "cell_type": "code",
   "execution_count": 633,
   "metadata": {},
   "outputs": [
    {
     "data": {
      "text/html": [
       "<div>\n",
       "<style scoped>\n",
       "    .dataframe tbody tr th:only-of-type {\n",
       "        vertical-align: middle;\n",
       "    }\n",
       "\n",
       "    .dataframe tbody tr th {\n",
       "        vertical-align: top;\n",
       "    }\n",
       "\n",
       "    .dataframe thead th {\n",
       "        text-align: right;\n",
       "    }\n",
       "</style>\n",
       "<table border=\"1\" class=\"dataframe\">\n",
       "  <thead>\n",
       "    <tr style=\"text-align: right;\">\n",
       "      <th></th>\n",
       "      <th>tweet_id</th>\n",
       "      <th>jpg_url</th>\n",
       "      <th>img_num</th>\n",
       "      <th>p1</th>\n",
       "      <th>p1_conf</th>\n",
       "      <th>p1_dog</th>\n",
       "      <th>p2</th>\n",
       "      <th>p2_conf</th>\n",
       "      <th>p2_dog</th>\n",
       "      <th>p3</th>\n",
       "      <th>p3_conf</th>\n",
       "      <th>p3_dog</th>\n",
       "    </tr>\n",
       "  </thead>\n",
       "  <tbody>\n",
       "    <tr>\n",
       "      <th>691</th>\n",
       "      <td>684200372118904832</td>\n",
       "      <td>https://pbs.twimg.com/media/CX7EkuHWkAESLZk.jpg</td>\n",
       "      <td>1</td>\n",
       "      <td>llama</td>\n",
       "      <td>0.681347</td>\n",
       "      <td>False</td>\n",
       "      <td>ram</td>\n",
       "      <td>0.120142</td>\n",
       "      <td>False</td>\n",
       "      <td>hog</td>\n",
       "      <td>0.043686</td>\n",
       "      <td>False</td>\n",
       "    </tr>\n",
       "    <tr>\n",
       "      <th>1706</th>\n",
       "      <td>817536400337801217</td>\n",
       "      <td>https://pbs.twimg.com/media/C1h4_MEXUAARxQF.jpg</td>\n",
       "      <td>2</td>\n",
       "      <td>pug</td>\n",
       "      <td>0.971358</td>\n",
       "      <td>True</td>\n",
       "      <td>French_bulldog</td>\n",
       "      <td>0.028518</td>\n",
       "      <td>True</td>\n",
       "      <td>Boston_bull</td>\n",
       "      <td>0.000086</td>\n",
       "      <td>True</td>\n",
       "    </tr>\n",
       "    <tr>\n",
       "      <th>1511</th>\n",
       "      <td>786233965241827333</td>\n",
       "      <td>https://pbs.twimg.com/media/CulDnZpWcAAGbZ-.jpg</td>\n",
       "      <td>1</td>\n",
       "      <td>Labrador_retriever</td>\n",
       "      <td>0.478193</td>\n",
       "      <td>True</td>\n",
       "      <td>schipperke</td>\n",
       "      <td>0.224817</td>\n",
       "      <td>True</td>\n",
       "      <td>Staffordshire_bullterrier</td>\n",
       "      <td>0.077396</td>\n",
       "      <td>True</td>\n",
       "    </tr>\n",
       "    <tr>\n",
       "      <th>2010</th>\n",
       "      <td>878776093423087618</td>\n",
       "      <td>https://pbs.twimg.com/media/DDIKMXzW0AEibje.jpg</td>\n",
       "      <td>2</td>\n",
       "      <td>Italian_greyhound</td>\n",
       "      <td>0.734684</td>\n",
       "      <td>True</td>\n",
       "      <td>whippet</td>\n",
       "      <td>0.150487</td>\n",
       "      <td>True</td>\n",
       "      <td>Ibizan_hound</td>\n",
       "      <td>0.039725</td>\n",
       "      <td>True</td>\n",
       "    </tr>\n",
       "    <tr>\n",
       "      <th>630</th>\n",
       "      <td>680934982542561280</td>\n",
       "      <td>https://pbs.twimg.com/media/CXMqwIQWcAA2iE0.jpg</td>\n",
       "      <td>1</td>\n",
       "      <td>Labrador_retriever</td>\n",
       "      <td>0.784398</td>\n",
       "      <td>True</td>\n",
       "      <td>Siberian_husky</td>\n",
       "      <td>0.055925</td>\n",
       "      <td>True</td>\n",
       "      <td>beagle</td>\n",
       "      <td>0.022750</td>\n",
       "      <td>True</td>\n",
       "    </tr>\n",
       "    <tr>\n",
       "      <th>381</th>\n",
       "      <td>673317986296586240</td>\n",
       "      <td>https://pbs.twimg.com/media/CVgbIobUYAEaeI3.jpg</td>\n",
       "      <td>2</td>\n",
       "      <td>miniature_pinscher</td>\n",
       "      <td>0.384099</td>\n",
       "      <td>True</td>\n",
       "      <td>bloodhound</td>\n",
       "      <td>0.079923</td>\n",
       "      <td>True</td>\n",
       "      <td>Rottweiler</td>\n",
       "      <td>0.068594</td>\n",
       "      <td>True</td>\n",
       "    </tr>\n",
       "    <tr>\n",
       "      <th>1712</th>\n",
       "      <td>818588835076603904</td>\n",
       "      <td>https://pbs.twimg.com/media/Crwxb5yWgAAX5P_.jpg</td>\n",
       "      <td>1</td>\n",
       "      <td>Norwegian_elkhound</td>\n",
       "      <td>0.372202</td>\n",
       "      <td>True</td>\n",
       "      <td>Chesapeake_Bay_retriever</td>\n",
       "      <td>0.137187</td>\n",
       "      <td>True</td>\n",
       "      <td>malamute</td>\n",
       "      <td>0.071436</td>\n",
       "      <td>True</td>\n",
       "    </tr>\n",
       "    <tr>\n",
       "      <th>160</th>\n",
       "      <td>668902994700836864</td>\n",
       "      <td>https://pbs.twimg.com/media/CUhruUgUAAAa8FQ.jpg</td>\n",
       "      <td>1</td>\n",
       "      <td>Brittany_spaniel</td>\n",
       "      <td>0.828425</td>\n",
       "      <td>True</td>\n",
       "      <td>Ibizan_hound</td>\n",
       "      <td>0.043082</td>\n",
       "      <td>True</td>\n",
       "      <td>Blenheim_spaniel</td>\n",
       "      <td>0.028004</td>\n",
       "      <td>True</td>\n",
       "    </tr>\n",
       "    <tr>\n",
       "      <th>665</th>\n",
       "      <td>682750546109968385</td>\n",
       "      <td>https://pbs.twimg.com/media/CXmd_bsWkAEEXck.jpg</td>\n",
       "      <td>1</td>\n",
       "      <td>English_setter</td>\n",
       "      <td>0.947198</td>\n",
       "      <td>True</td>\n",
       "      <td>English_springer</td>\n",
       "      <td>0.031128</td>\n",
       "      <td>True</td>\n",
       "      <td>Brittany_spaniel</td>\n",
       "      <td>0.005512</td>\n",
       "      <td>True</td>\n",
       "    </tr>\n",
       "    <tr>\n",
       "      <th>800</th>\n",
       "      <td>691416866452082688</td>\n",
       "      <td>https://pbs.twimg.com/media/CZhn-QAWwAASQan.jpg</td>\n",
       "      <td>1</td>\n",
       "      <td>Lakeland_terrier</td>\n",
       "      <td>0.530104</td>\n",
       "      <td>True</td>\n",
       "      <td>Irish_terrier</td>\n",
       "      <td>0.197314</td>\n",
       "      <td>True</td>\n",
       "      <td>Airedale</td>\n",
       "      <td>0.082515</td>\n",
       "      <td>True</td>\n",
       "    </tr>\n",
       "    <tr>\n",
       "      <th>1864</th>\n",
       "      <td>842892208864923648</td>\n",
       "      <td>https://pbs.twimg.com/ext_tw_video_thumb/80710...</td>\n",
       "      <td>1</td>\n",
       "      <td>Chihuahua</td>\n",
       "      <td>0.505370</td>\n",
       "      <td>True</td>\n",
       "      <td>Pomeranian</td>\n",
       "      <td>0.120358</td>\n",
       "      <td>True</td>\n",
       "      <td>toy_terrier</td>\n",
       "      <td>0.077008</td>\n",
       "      <td>True</td>\n",
       "    </tr>\n",
       "    <tr>\n",
       "      <th>538</th>\n",
       "      <td>676949632774234114</td>\n",
       "      <td>https://pbs.twimg.com/media/CWUCGMtWEAAjXnS.jpg</td>\n",
       "      <td>1</td>\n",
       "      <td>Welsh_springer_spaniel</td>\n",
       "      <td>0.206479</td>\n",
       "      <td>True</td>\n",
       "      <td>Saint_Bernard</td>\n",
       "      <td>0.139339</td>\n",
       "      <td>True</td>\n",
       "      <td>boxer</td>\n",
       "      <td>0.114606</td>\n",
       "      <td>True</td>\n",
       "    </tr>\n",
       "    <tr>\n",
       "      <th>491</th>\n",
       "      <td>675534494439489536</td>\n",
       "      <td>https://pbs.twimg.com/media/CV_7CV6XIAEV05u.jpg</td>\n",
       "      <td>1</td>\n",
       "      <td>chow</td>\n",
       "      <td>0.749368</td>\n",
       "      <td>True</td>\n",
       "      <td>schipperke</td>\n",
       "      <td>0.133738</td>\n",
       "      <td>True</td>\n",
       "      <td>Newfoundland</td>\n",
       "      <td>0.049914</td>\n",
       "      <td>True</td>\n",
       "    </tr>\n",
       "    <tr>\n",
       "      <th>1601</th>\n",
       "      <td>799774291445383169</td>\n",
       "      <td>https://pbs.twimg.com/media/CsGnz64WYAEIDHJ.jpg</td>\n",
       "      <td>1</td>\n",
       "      <td>chow</td>\n",
       "      <td>0.316565</td>\n",
       "      <td>True</td>\n",
       "      <td>golden_retriever</td>\n",
       "      <td>0.241929</td>\n",
       "      <td>True</td>\n",
       "      <td>Pomeranian</td>\n",
       "      <td>0.157524</td>\n",
       "      <td>True</td>\n",
       "    </tr>\n",
       "    <tr>\n",
       "      <th>1970</th>\n",
       "      <td>868880397819494401</td>\n",
       "      <td>https://pbs.twimg.com/media/DA7iHL5U0AA1OQo.jpg</td>\n",
       "      <td>1</td>\n",
       "      <td>laptop</td>\n",
       "      <td>0.153718</td>\n",
       "      <td>False</td>\n",
       "      <td>French_bulldog</td>\n",
       "      <td>0.099984</td>\n",
       "      <td>True</td>\n",
       "      <td>printer</td>\n",
       "      <td>0.077130</td>\n",
       "      <td>False</td>\n",
       "    </tr>\n",
       "  </tbody>\n",
       "</table>\n",
       "</div>"
      ],
      "text/plain": [
       "                tweet_id                                            jpg_url  \\\n",
       "691   684200372118904832    https://pbs.twimg.com/media/CX7EkuHWkAESLZk.jpg   \n",
       "1706  817536400337801217    https://pbs.twimg.com/media/C1h4_MEXUAARxQF.jpg   \n",
       "1511  786233965241827333    https://pbs.twimg.com/media/CulDnZpWcAAGbZ-.jpg   \n",
       "2010  878776093423087618    https://pbs.twimg.com/media/DDIKMXzW0AEibje.jpg   \n",
       "630   680934982542561280    https://pbs.twimg.com/media/CXMqwIQWcAA2iE0.jpg   \n",
       "381   673317986296586240    https://pbs.twimg.com/media/CVgbIobUYAEaeI3.jpg   \n",
       "1712  818588835076603904    https://pbs.twimg.com/media/Crwxb5yWgAAX5P_.jpg   \n",
       "160   668902994700836864    https://pbs.twimg.com/media/CUhruUgUAAAa8FQ.jpg   \n",
       "665   682750546109968385    https://pbs.twimg.com/media/CXmd_bsWkAEEXck.jpg   \n",
       "800   691416866452082688    https://pbs.twimg.com/media/CZhn-QAWwAASQan.jpg   \n",
       "1864  842892208864923648  https://pbs.twimg.com/ext_tw_video_thumb/80710...   \n",
       "538   676949632774234114    https://pbs.twimg.com/media/CWUCGMtWEAAjXnS.jpg   \n",
       "491   675534494439489536    https://pbs.twimg.com/media/CV_7CV6XIAEV05u.jpg   \n",
       "1601  799774291445383169    https://pbs.twimg.com/media/CsGnz64WYAEIDHJ.jpg   \n",
       "1970  868880397819494401    https://pbs.twimg.com/media/DA7iHL5U0AA1OQo.jpg   \n",
       "\n",
       "      img_num                      p1   p1_conf  p1_dog  \\\n",
       "691         1                   llama  0.681347   False   \n",
       "1706        2                     pug  0.971358    True   \n",
       "1511        1      Labrador_retriever  0.478193    True   \n",
       "2010        2       Italian_greyhound  0.734684    True   \n",
       "630         1      Labrador_retriever  0.784398    True   \n",
       "381         2      miniature_pinscher  0.384099    True   \n",
       "1712        1      Norwegian_elkhound  0.372202    True   \n",
       "160         1        Brittany_spaniel  0.828425    True   \n",
       "665         1          English_setter  0.947198    True   \n",
       "800         1        Lakeland_terrier  0.530104    True   \n",
       "1864        1               Chihuahua  0.505370    True   \n",
       "538         1  Welsh_springer_spaniel  0.206479    True   \n",
       "491         1                    chow  0.749368    True   \n",
       "1601        1                    chow  0.316565    True   \n",
       "1970        1                  laptop  0.153718   False   \n",
       "\n",
       "                            p2   p2_conf  p2_dog                         p3  \\\n",
       "691                        ram  0.120142   False                        hog   \n",
       "1706            French_bulldog  0.028518    True                Boston_bull   \n",
       "1511                schipperke  0.224817    True  Staffordshire_bullterrier   \n",
       "2010                   whippet  0.150487    True               Ibizan_hound   \n",
       "630             Siberian_husky  0.055925    True                     beagle   \n",
       "381                 bloodhound  0.079923    True                 Rottweiler   \n",
       "1712  Chesapeake_Bay_retriever  0.137187    True                   malamute   \n",
       "160               Ibizan_hound  0.043082    True           Blenheim_spaniel   \n",
       "665           English_springer  0.031128    True           Brittany_spaniel   \n",
       "800              Irish_terrier  0.197314    True                   Airedale   \n",
       "1864                Pomeranian  0.120358    True                toy_terrier   \n",
       "538              Saint_Bernard  0.139339    True                      boxer   \n",
       "491                 schipperke  0.133738    True               Newfoundland   \n",
       "1601          golden_retriever  0.241929    True                 Pomeranian   \n",
       "1970            French_bulldog  0.099984    True                    printer   \n",
       "\n",
       "       p3_conf  p3_dog  \n",
       "691   0.043686   False  \n",
       "1706  0.000086    True  \n",
       "1511  0.077396    True  \n",
       "2010  0.039725    True  \n",
       "630   0.022750    True  \n",
       "381   0.068594    True  \n",
       "1712  0.071436    True  \n",
       "160   0.028004    True  \n",
       "665   0.005512    True  \n",
       "800   0.082515    True  \n",
       "1864  0.077008    True  \n",
       "538   0.114606    True  \n",
       "491   0.049914    True  \n",
       "1601  0.157524    True  \n",
       "1970  0.077130   False  "
      ]
     },
     "execution_count": 633,
     "metadata": {},
     "output_type": "execute_result"
    }
   ],
   "source": [
    "image_predictions_df.sample(15)"
   ]
  },
  {
   "cell_type": "code",
   "execution_count": 634,
   "metadata": {},
   "outputs": [
    {
     "name": "stdout",
     "output_type": "stream",
     "text": [
      "<class 'pandas.core.frame.DataFrame'>\n",
      "RangeIndex: 2075 entries, 0 to 2074\n",
      "Data columns (total 12 columns):\n",
      "tweet_id    2075 non-null int64\n",
      "jpg_url     2075 non-null object\n",
      "img_num     2075 non-null int64\n",
      "p1          2075 non-null object\n",
      "p1_conf     2075 non-null float64\n",
      "p1_dog      2075 non-null bool\n",
      "p2          2075 non-null object\n",
      "p2_conf     2075 non-null float64\n",
      "p2_dog      2075 non-null bool\n",
      "p3          2075 non-null object\n",
      "p3_conf     2075 non-null float64\n",
      "p3_dog      2075 non-null bool\n",
      "dtypes: bool(3), float64(3), int64(2), object(4)\n",
      "memory usage: 152.1+ KB\n"
     ]
    }
   ],
   "source": [
    "# summarising the data. The output shows that there are no missing values\n",
    "image_predictions_df.info()"
   ]
  },
  {
   "cell_type": "code",
   "execution_count": 635,
   "metadata": {},
   "outputs": [
    {
     "data": {
      "text/plain": [
       "0"
      ]
     },
     "execution_count": 635,
     "metadata": {},
     "output_type": "execute_result"
    }
   ],
   "source": [
    "# checking for dupplicated in the data set. No duplicates in the data set\n",
    "image_predictions_df.duplicated().sum()"
   ]
  },
  {
   "cell_type": "code",
   "execution_count": 636,
   "metadata": {},
   "outputs": [
    {
     "data": {
      "text/plain": [
       "tweet_id    0\n",
       "jpg_url     0\n",
       "img_num     0\n",
       "p1          0\n",
       "p1_conf     0\n",
       "p1_dog      0\n",
       "p2          0\n",
       "p2_conf     0\n",
       "p2_dog      0\n",
       "p3          0\n",
       "p3_conf     0\n",
       "p3_dog      0\n",
       "dtype: int64"
      ]
     },
     "execution_count": 636,
     "metadata": {},
     "output_type": "execute_result"
    }
   ],
   "source": [
    "# checking for dupplicated in the data set. No null values in the data set\n",
    "image_predictions_df.isnull().sum()"
   ]
  },
  {
   "cell_type": "code",
   "execution_count": 637,
   "metadata": {},
   "outputs": [
    {
     "data": {
      "text/plain": [
       "(1    1780\n",
       " 2     198\n",
       " 3      66\n",
       " 4      31\n",
       " Name: img_num, dtype: int64, 1    0.857831\n",
       " 2    0.095422\n",
       " 3    0.031807\n",
       " 4    0.014940\n",
       " Name: img_num, dtype: float64)"
      ]
     },
     "execution_count": 637,
     "metadata": {},
     "output_type": "execute_result"
    }
   ],
   "source": [
    "# checking for the frequency of number of images. 85% have 1 image and 1.5% has 4 images\n",
    "image_predictions_df.img_num.value_counts(),image_predictions_df.img_num.value_counts(normalize=True)"
   ]
  },
  {
   "cell_type": "code",
   "execution_count": 638,
   "metadata": {},
   "outputs": [
    {
     "data": {
      "image/png": "[encoded data removed]",
      "text/plain": [
       "<Figure size 432x288 with 1 Axes>"
      ]
     },
     "metadata": {
      "needs_background": "light"
     },
     "output_type": "display_data"
    }
   ],
   "source": [
    "# visualising img_num counts \n",
    "image_predictions_df.img_num.value_counts(normalize=True).plot.bar();"
   ]
  },
  {
   "cell_type": "code",
   "execution_count": null,
   "metadata": {},
   "outputs": [],
   "source": []
  },
  {
   "cell_type": "code",
   "execution_count": 639,
   "metadata": {},
   "outputs": [
    {
     "data": {
      "text/plain": [
       "Labrador_retriever                79\n",
       "Chihuahua                         58\n",
       "golden_retriever                  48\n",
       "Eskimo_dog                        38\n",
       "kelpie                            35\n",
       "kuvasz                            34\n",
       "Staffordshire_bullterrier         32\n",
       "chow                              32\n",
       "cocker_spaniel                    31\n",
       "beagle                            31\n",
       "Pekinese                          29\n",
       "Pomeranian                        29\n",
       "toy_poodle                        29\n",
       "Chesapeake_Bay_retriever          27\n",
       "Pembroke                          27\n",
       "Great_Pyrenees                    27\n",
       "malamute                          26\n",
       "French_bulldog                    26\n",
       "American_Staffordshire_terrier    24\n",
       "Cardigan                          23\n",
       "pug                               23\n",
       "basenji                           21\n",
       "toy_terrier                       20\n",
       "bull_mastiff                      20\n",
       "Siberian_husky                    19\n",
       "Shetland_sheepdog                 17\n",
       "Boston_bull                       17\n",
       "Lakeland_terrier                  16\n",
       "boxer                             16\n",
       "doormat                           16\n",
       "                                  ..\n",
       "nipple                             1\n",
       "greenhouse                         1\n",
       "pajama                             1\n",
       "joystick                           1\n",
       "hare                               1\n",
       "rock_crab                          1\n",
       "window_screen                      1\n",
       "common_newt                        1\n",
       "stinkhorn                          1\n",
       "green_lizard                       1\n",
       "barber_chair                       1\n",
       "hammerhead                         1\n",
       "loggerhead                         1\n",
       "standard_schnauzer                 1\n",
       "Sussex_spaniel                     1\n",
       "bow_tie                            1\n",
       "dugong                             1\n",
       "entertainment_center               1\n",
       "assault_rifle                      1\n",
       "nail                               1\n",
       "grand_piano                        1\n",
       "canoe                              1\n",
       "binder                             1\n",
       "African_chameleon                  1\n",
       "barrow                             1\n",
       "screw                              1\n",
       "acorn                              1\n",
       "plunger                            1\n",
       "oscilloscope                       1\n",
       "vacuum                             1\n",
       "Name: p3, Length: 408, dtype: int64"
      ]
     },
     "execution_count": 639,
     "metadata": {},
     "output_type": "execute_result"
    }
   ],
   "source": [
    "# checking for the frequency of names in p3. Labrador_retriever is the most common \n",
    "image_predictions_df.p3.value_counts()"
   ]
  },
  {
   "cell_type": "markdown",
   "metadata": {},
   "source": [
    "2.3 Assessing tweets_d"
   ]
  },
  {
   "cell_type": "code",
   "execution_count": 640,
   "metadata": {},
   "outputs": [
    {
     "data": {
      "text/html": [
       "<div>\n",
       "<style scoped>\n",
       "    .dataframe tbody tr th:only-of-type {\n",
       "        vertical-align: middle;\n",
       "    }\n",
       "\n",
       "    .dataframe tbody tr th {\n",
       "        vertical-align: top;\n",
       "    }\n",
       "\n",
       "    .dataframe thead th {\n",
       "        text-align: right;\n",
       "    }\n",
       "</style>\n",
       "<table border=\"1\" class=\"dataframe\">\n",
       "  <thead>\n",
       "    <tr style=\"text-align: right;\">\n",
       "      <th></th>\n",
       "      <th>favorite_count</th>\n",
       "      <th>retweet_count</th>\n",
       "      <th>tweet_id</th>\n",
       "    </tr>\n",
       "  </thead>\n",
       "  <tbody>\n",
       "    <tr>\n",
       "      <th>1494</th>\n",
       "      <td>5666</td>\n",
       "      <td>1577</td>\n",
       "      <td>763183833575481344</td>\n",
       "    </tr>\n",
       "    <tr>\n",
       "      <th>1583</th>\n",
       "      <td>11861</td>\n",
       "      <td>3174</td>\n",
       "      <td>777684227185868800</td>\n",
       "    </tr>\n",
       "    <tr>\n",
       "      <th>1231</th>\n",
       "      <td>3587</td>\n",
       "      <td>1101</td>\n",
       "      <td>730427195684999168</td>\n",
       "    </tr>\n",
       "    <tr>\n",
       "      <th>1718</th>\n",
       "      <td>9792</td>\n",
       "      <td>3603</td>\n",
       "      <td>794205269047836673</td>\n",
       "    </tr>\n",
       "    <tr>\n",
       "      <th>1209</th>\n",
       "      <td>4023</td>\n",
       "      <td>1451</td>\n",
       "      <td>727175367849549825</td>\n",
       "    </tr>\n",
       "    <tr>\n",
       "      <th>1415</th>\n",
       "      <td>38868</td>\n",
       "      <td>22346</td>\n",
       "      <td>na</td>\n",
       "    </tr>\n",
       "    <tr>\n",
       "      <th>198</th>\n",
       "      <td>1502</td>\n",
       "      <td>939</td>\n",
       "      <td>669583735898185728</td>\n",
       "    </tr>\n",
       "    <tr>\n",
       "      <th>1466</th>\n",
       "      <td>15393</td>\n",
       "      <td>6047</td>\n",
       "      <td>759923789979262976</td>\n",
       "    </tr>\n",
       "    <tr>\n",
       "      <th>1255</th>\n",
       "      <td>3732</td>\n",
       "      <td>1216</td>\n",
       "      <td>735991939804200964</td>\n",
       "    </tr>\n",
       "    <tr>\n",
       "      <th>241</th>\n",
       "      <td>329</td>\n",
       "      <td>114</td>\n",
       "      <td>670433242026217473</td>\n",
       "    </tr>\n",
       "  </tbody>\n",
       "</table>\n",
       "</div>"
      ],
      "text/plain": [
       "      favorite_count  retweet_count            tweet_id\n",
       "1494            5666           1577  763183833575481344\n",
       "1583           11861           3174  777684227185868800\n",
       "1231            3587           1101  730427195684999168\n",
       "1718            9792           3603  794205269047836673\n",
       "1209            4023           1451  727175367849549825\n",
       "1415           38868          22346                  na\n",
       "198             1502            939  669583735898185728\n",
       "1466           15393           6047  759923789979262976\n",
       "1255            3732           1216  735991939804200964\n",
       "241              329            114  670433242026217473"
      ]
     },
     "execution_count": 640,
     "metadata": {},
     "output_type": "execute_result"
    }
   ],
   "source": [
    "tweets_df.sample(10)"
   ]
  },
  {
   "cell_type": "code",
   "execution_count": 641,
   "metadata": {},
   "outputs": [
    {
     "data": {
      "text/plain": [
       "(2337, 3)"
      ]
     },
     "execution_count": 641,
     "metadata": {},
     "output_type": "execute_result"
    }
   ],
   "source": [
    "tweets_df.shape"
   ]
  },
  {
   "cell_type": "code",
   "execution_count": 642,
   "metadata": {},
   "outputs": [
    {
     "name": "stdout",
     "output_type": "stream",
     "text": [
      "<class 'pandas.core.frame.DataFrame'>\n",
      "RangeIndex: 2337 entries, 0 to 2336\n",
      "Data columns (total 3 columns):\n",
      "favorite_count    2337 non-null int64\n",
      "retweet_count     2337 non-null int64\n",
      "tweet_id          2337 non-null object\n",
      "dtypes: int64(2), object(1)\n",
      "memory usage: 54.9+ KB\n"
     ]
    }
   ],
   "source": [
    "# summarising the dataset \n",
    "tweets_df.info()"
   ]
  },
  {
   "cell_type": "code",
   "execution_count": 643,
   "metadata": {},
   "outputs": [
    {
     "data": {
      "text/plain": [
       "0"
      ]
     },
     "execution_count": 643,
     "metadata": {},
     "output_type": "execute_result"
    }
   ],
   "source": [
    "# ckecking for dupplicates \n",
    "tweets_df.duplicated().sum()"
   ]
  },
  {
   "cell_type": "code",
   "execution_count": 644,
   "metadata": {},
   "outputs": [
    {
     "data": {
      "text/plain": [
       "favorite_count    0\n",
       "retweet_count     0\n",
       "tweet_id          0\n",
       "dtype: int64"
      ]
     },
     "execution_count": 644,
     "metadata": {},
     "output_type": "execute_result"
    }
   ],
   "source": [
    "tweets_df.isnull().sum()"
   ]
  },
  {
   "cell_type": "code",
   "execution_count": 645,
   "metadata": {},
   "outputs": [
    {
     "data": {
      "text/plain": [
       "na                    274\n",
       "742423162642649089      2\n",
       "800141411257643009      2\n",
       "822244810299936769      2\n",
       "733109473259085826      2\n",
       "Name: tweet_id, dtype: int64"
      ]
     },
     "execution_count": 645,
     "metadata": {},
     "output_type": "execute_result"
    }
   ],
   "source": [
    "tweets_df.tweet_id.value_counts().head()\n",
    "# there are 274 na in tweet_it"
   ]
  },
  {
   "cell_type": "code",
   "execution_count": 646,
   "metadata": {},
   "outputs": [
    {
     "data": {
      "text/plain": [
       "0       167\n",
       "2741      4\n",
       "329       4\n",
       "2320      3\n",
       "2753      3\n",
       "Name: favorite_count, dtype: int64"
      ]
     },
     "execution_count": 646,
     "metadata": {},
     "output_type": "execute_result"
    }
   ],
   "source": [
    "tweets_df.favorite_count.value_counts().head()\n",
    "# there are 167 zeros"
   ]
  },
  {
   "cell_type": "code",
   "execution_count": null,
   "metadata": {},
   "outputs": [],
   "source": []
  },
  {
   "cell_type": "markdown",
   "metadata": {},
   "source": [
    "#### Twiiter_archive_df\n",
    "###### Quality\n",
    "- numerator rating unexpected values too high\n",
    "- denominator rating values not equal to 10\n",
    "- Remove retweets and resctive id, status_id and timestamp\n",
    "- name has lots of None\n",
    "- doggo: most obseravtions None\n",
    "- floofer, pupper and puppo also have the same issues as doggo\n",
    "- name some names starting with Capital while others with lower case\n",
    "- tweet_id numeric. should be categorical\n",
    "- timestamp convert from object to datetime datatype\n",
    "- converting both rating numerator and denminator fron int to floats\n",
    "\n",
    "###### Tidiness\n",
    "- doggo, floofer, pupper and puppo should be dog categories instead of individual varibales. these 4 varibales are different categories of the same variable and could be transformed into one called dog_stages or dog_categories.\n",
    "\n",
    "- The df2 and df3 are part of the same observational unit as df1 but there are three separate tables so should be merged and stored in a file called twitter_archive_master.csv, as per the project instructions.\n",
    "\n",
    "#### image_predictions_df\n",
    "###### Quality\n",
    "- p1 : initial letter some capitalised but others not\n",
    "- tweet_id is numerical datatype\n",
    "\n",
    "#### tweets_df\n",
    "- tweet_id is numerical\n"
   ]
  },
  {
   "cell_type": "code",
   "execution_count": 647,
   "metadata": {},
   "outputs": [
    {
     "name": "stdout",
     "output_type": "stream",
     "text": [
      "<class 'pandas.core.frame.DataFrame'>\n",
      "RangeIndex: 2075 entries, 0 to 2074\n",
      "Data columns (total 12 columns):\n",
      "tweet_id    2075 non-null int64\n",
      "jpg_url     2075 non-null object\n",
      "img_num     2075 non-null int64\n",
      "p1          2075 non-null object\n",
      "p1_conf     2075 non-null float64\n",
      "p1_dog      2075 non-null bool\n",
      "p2          2075 non-null object\n",
      "p2_conf     2075 non-null float64\n",
      "p2_dog      2075 non-null bool\n",
      "p3          2075 non-null object\n",
      "p3_conf     2075 non-null float64\n",
      "p3_dog      2075 non-null bool\n",
      "dtypes: bool(3), float64(3), int64(2), object(4)\n",
      "memory usage: 152.1+ KB\n"
     ]
    }
   ],
   "source": [
    "image_predictions_df.info()"
   ]
  },
  {
   "cell_type": "markdown",
   "metadata": {},
   "source": [
    "## 3. Cleaning "
   ]
  },
  {
   "cell_type": "markdown",
   "metadata": {},
   "source": [
    "3.1 Cleaning twitter_archive_df"
   ]
  },
  {
   "cell_type": "code",
   "execution_count": 1154,
   "metadata": {},
   "outputs": [],
   "source": [
    "# copying the data so that the changes in the clean version does not apply to the intitial df\n",
    "clean_twitter_archive_df = twitter_archive_df.copy()"
   ]
  },
  {
   "cell_type": "code",
   "execution_count": 1155,
   "metadata": {},
   "outputs": [
    {
     "name": "stdout",
     "output_type": "stream",
     "text": [
      "<class 'pandas.core.frame.DataFrame'>\n",
      "Int64Index: 2356 entries, 2355 to 0\n",
      "Data columns (total 17 columns):\n",
      "tweet_id                      2356 non-null int64\n",
      "in_reply_to_status_id         78 non-null float64\n",
      "in_reply_to_user_id           78 non-null float64\n",
      "timestamp                     2356 non-null object\n",
      "source                        2356 non-null object\n",
      "text                          2356 non-null object\n",
      "retweeted_status_id           181 non-null float64\n",
      "retweeted_status_user_id      181 non-null float64\n",
      "retweeted_status_timestamp    181 non-null object\n",
      "expanded_urls                 2297 non-null object\n",
      "rating_numerator              2356 non-null int64\n",
      "rating_denominator            2356 non-null int64\n",
      "name                          2356 non-null object\n",
      "doggo                         2356 non-null object\n",
      "floofer                       2356 non-null object\n",
      "pupper                        2356 non-null object\n",
      "puppo                         2356 non-null object\n",
      "dtypes: float64(4), int64(3), object(10)\n",
      "memory usage: 331.3+ KB\n"
     ]
    }
   ],
   "source": [
    "clean_twitter_archive_df.info()"
   ]
  },
  {
   "cell_type": "markdown",
   "metadata": {},
   "source": [
    "Define\n",
    "- Eliminating anomalous rating; in numerator, all that are greater 14 and demoninator, all that are not equal to 10\n",
    "- create a new variable rating ratio (numerator/denominator) and get rid of numerator and denominator columns\n",
    "- converting both rating numerator and denminator and ration fron int to float"
   ]
  },
  {
   "cell_type": "markdown",
   "metadata": {},
   "source": [
    "code 1"
   ]
  },
  {
   "cell_type": "code",
   "execution_count": 1156,
   "metadata": {},
   "outputs": [],
   "source": [
    "# subseting only the valid obersvation and eliminating all rating > 14\n",
    "clean_twitter_archive_df = clean_twitter_archive_df[clean_twitter_archive_df.rating_numerator < 15]"
   ]
  },
  {
   "cell_type": "markdown",
   "metadata": {},
   "source": [
    "test 1"
   ]
  },
  {
   "cell_type": "code",
   "execution_count": 1157,
   "metadata": {},
   "outputs": [
    {
     "data": {
      "text/plain": [
       "12    558\n",
       "11    464\n",
       "10    461\n",
       "13    351\n",
       "9     158\n",
       "8     102\n",
       "7      55\n",
       "14     54\n",
       "5      37\n",
       "6      32\n",
       "3      19\n",
       "4      17\n",
       "1       9\n",
       "2       9\n",
       "0       2\n",
       "Name: rating_numerator, dtype: int64"
      ]
     },
     "execution_count": 1157,
     "metadata": {},
     "output_type": "execute_result"
    }
   ],
   "source": [
    "clean_twitter_archive_df.rating_numerator.value_counts()"
   ]
  },
  {
   "cell_type": "markdown",
   "metadata": {},
   "source": [
    "code 2"
   ]
  },
  {
   "cell_type": "code",
   "execution_count": 1158,
   "metadata": {},
   "outputs": [],
   "source": [
    "# subseting only the valid obersvation and discarting all non-valid\n",
    "clean_twitter_archive_df = clean_twitter_archive_df[clean_twitter_archive_df.rating_denominator == 10]"
   ]
  },
  {
   "cell_type": "markdown",
   "metadata": {},
   "source": [
    "test 2"
   ]
  },
  {
   "cell_type": "code",
   "execution_count": 1159,
   "metadata": {},
   "outputs": [
    {
     "data": {
      "text/plain": [
       "10    2321\n",
       "Name: rating_denominator, dtype: int64"
      ]
     },
     "execution_count": 1159,
     "metadata": {},
     "output_type": "execute_result"
    }
   ],
   "source": [
    "clean_twitter_archive_df.rating_denominator.value_counts()"
   ]
  },
  {
   "cell_type": "markdown",
   "metadata": {},
   "source": [
    "code 3"
   ]
  },
  {
   "cell_type": "code",
   "execution_count": 1160,
   "metadata": {},
   "outputs": [],
   "source": [
    "clean_twitter_archive_df.rating_numerator = clean_twitter_archive_df.rating_numerator.astype(float)"
   ]
  },
  {
   "cell_type": "code",
   "execution_count": 1161,
   "metadata": {},
   "outputs": [],
   "source": [
    "clean_twitter_archive_df.rating_numerator = clean_twitter_archive_df.rating_denominator.astype(float)"
   ]
  },
  {
   "cell_type": "code",
   "execution_count": 1162,
   "metadata": {},
   "outputs": [],
   "source": [
    "# creating rating_ratio\n",
    "clean_twitter_archive_df['rating_ratio'] = clean_twitter_archive_df.rating_numerator / clean_twitter_archive_df.rating_denominator"
   ]
  },
  {
   "cell_type": "code",
   "execution_count": 1163,
   "metadata": {},
   "outputs": [],
   "source": [
    "# eliminating numerator and denominator columns\n",
    "clean_twitter_archive_df.drop(['rating_numerator', 'rating_denominator'], axis=1, inplace=True)"
   ]
  },
  {
   "cell_type": "markdown",
   "metadata": {},
   "source": [
    "test 3"
   ]
  },
  {
   "cell_type": "code",
   "execution_count": 1164,
   "metadata": {},
   "outputs": [
    {
     "data": {
      "text/html": [
       "<div>\n",
       "<style scoped>\n",
       "    .dataframe tbody tr th:only-of-type {\n",
       "        vertical-align: middle;\n",
       "    }\n",
       "\n",
       "    .dataframe tbody tr th {\n",
       "        vertical-align: top;\n",
       "    }\n",
       "\n",
       "    .dataframe thead th {\n",
       "        text-align: right;\n",
       "    }\n",
       "</style>\n",
       "<table border=\"1\" class=\"dataframe\">\n",
       "  <thead>\n",
       "    <tr style=\"text-align: right;\">\n",
       "      <th></th>\n",
       "      <th>tweet_id</th>\n",
       "      <th>in_reply_to_status_id</th>\n",
       "      <th>in_reply_to_user_id</th>\n",
       "      <th>timestamp</th>\n",
       "      <th>source</th>\n",
       "      <th>text</th>\n",
       "      <th>retweeted_status_id</th>\n",
       "      <th>retweeted_status_user_id</th>\n",
       "      <th>retweeted_status_timestamp</th>\n",
       "      <th>expanded_urls</th>\n",
       "      <th>name</th>\n",
       "      <th>doggo</th>\n",
       "      <th>floofer</th>\n",
       "      <th>pupper</th>\n",
       "      <th>puppo</th>\n",
       "      <th>rating_ratio</th>\n",
       "    </tr>\n",
       "  </thead>\n",
       "  <tbody>\n",
       "  </tbody>\n",
       "</table>\n",
       "</div>"
      ],
      "text/plain": [
       "Empty DataFrame\n",
       "Columns: [tweet_id, in_reply_to_status_id, in_reply_to_user_id, timestamp, source, text, retweeted_status_id, retweeted_status_user_id, retweeted_status_timestamp, expanded_urls, name, doggo, floofer, pupper, puppo, rating_ratio]\n",
       "Index: []"
      ]
     },
     "execution_count": 1164,
     "metadata": {},
     "output_type": "execute_result"
    }
   ],
   "source": [
    "# rating ratio is the last column to the right\n",
    "clean_twitter_archive_df.head(0)"
   ]
  },
  {
   "cell_type": "code",
   "execution_count": 1165,
   "metadata": {},
   "outputs": [
    {
     "name": "stdout",
     "output_type": "stream",
     "text": [
      "<class 'pandas.core.frame.DataFrame'>\n",
      "Int64Index: 2321 entries, 2355 to 0\n",
      "Data columns (total 16 columns):\n",
      "tweet_id                      2321 non-null int64\n",
      "in_reply_to_status_id         68 non-null float64\n",
      "in_reply_to_user_id           68 non-null float64\n",
      "timestamp                     2321 non-null object\n",
      "source                        2321 non-null object\n",
      "text                          2321 non-null object\n",
      "retweeted_status_id           178 non-null float64\n",
      "retweeted_status_user_id      178 non-null float64\n",
      "retweeted_status_timestamp    178 non-null object\n",
      "expanded_urls                 2271 non-null object\n",
      "name                          2321 non-null object\n",
      "doggo                         2321 non-null object\n",
      "floofer                       2321 non-null object\n",
      "pupper                        2321 non-null object\n",
      "puppo                         2321 non-null object\n",
      "rating_ratio                  2321 non-null float64\n",
      "dtypes: float64(5), int64(1), object(10)\n",
      "memory usage: 308.3+ KB\n"
     ]
    }
   ],
   "source": [
    "clean_twitter_archive_df.info()"
   ]
  },
  {
   "cell_type": "markdown",
   "metadata": {},
   "source": [
    "Define :\n",
    "- Removing duplicates in the expanded_urls column"
   ]
  },
  {
   "cell_type": "markdown",
   "metadata": {},
   "source": [
    "Code"
   ]
  },
  {
   "cell_type": "code",
   "execution_count": 1166,
   "metadata": {},
   "outputs": [
    {
     "data": {
      "text/plain": [
       "126"
      ]
     },
     "execution_count": 1166,
     "metadata": {},
     "output_type": "execute_result"
    }
   ],
   "source": [
    "# checking for duplicates in the columns\n",
    "clean_twitter_archive_df.expanded_urls.duplicated().sum()"
   ]
  },
  {
   "cell_type": "code",
   "execution_count": 1167,
   "metadata": {},
   "outputs": [],
   "source": [
    "# removind duplicates\n",
    "clean_twitter_archive_df.expanded_urls.drop_duplicates(keep=False, inplace=True)"
   ]
  },
  {
   "cell_type": "markdown",
   "metadata": {},
   "source": [
    "Test"
   ]
  },
  {
   "cell_type": "code",
   "execution_count": 1168,
   "metadata": {},
   "outputs": [
    {
     "data": {
      "text/plain": [
       "0"
      ]
     },
     "execution_count": 1168,
     "metadata": {},
     "output_type": "execute_result"
    }
   ],
   "source": [
    "# checking for duplicates in the columns\n",
    "clean_twitter_archive_df.expanded_urls.duplicated().sum()"
   ]
  },
  {
   "cell_type": "markdown",
   "metadata": {},
   "source": [
    "Define\n",
    "- remove retweeted_status_id and retweeted_status_user_id, retweeted_status_timestamp. Not going to be used"
   ]
  },
  {
   "cell_type": "markdown",
   "metadata": {},
   "source": [
    "code:"
   ]
  },
  {
   "cell_type": "code",
   "execution_count": 1169,
   "metadata": {},
   "outputs": [],
   "source": [
    "clean_twitter_archive_df.drop(['in_reply_to_user_id', 'in_reply_to_status_id', \n",
    "                               'retweeted_status_id', 'retweeted_status_user_id',\n",
    "                               'retweeted_status_timestamp'],  axis = 1,inplace = True) "
   ]
  },
  {
   "cell_type": "markdown",
   "metadata": {},
   "source": [
    "test"
   ]
  },
  {
   "cell_type": "code",
   "execution_count": 1170,
   "metadata": {},
   "outputs": [
    {
     "data": {
      "text/plain": [
       "['tweet_id',\n",
       " 'timestamp',\n",
       " 'source',\n",
       " 'text',\n",
       " 'expanded_urls',\n",
       " 'name',\n",
       " 'doggo',\n",
       " 'floofer',\n",
       " 'pupper',\n",
       " 'puppo',\n",
       " 'rating_ratio']"
      ]
     },
     "execution_count": 1170,
     "metadata": {},
     "output_type": "execute_result"
    }
   ],
   "source": [
    "list(clean_twitter_archive_df.columns)"
   ]
  },
  {
   "cell_type": "markdown",
   "metadata": {},
   "source": [
    "Define \n",
    "- variable name has lots of None that shull be nulls. Change all to np.nan"
   ]
  },
  {
   "cell_type": "markdown",
   "metadata": {},
   "source": [
    "Code:"
   ]
  },
  {
   "cell_type": "code",
   "execution_count": 1171,
   "metadata": {},
   "outputs": [],
   "source": [
    "clean_twitter_archive_df.name.replace(\"None\", np.nan, inplace=True)"
   ]
  },
  {
   "cell_type": "markdown",
   "metadata": {},
   "source": [
    "test:"
   ]
  },
  {
   "cell_type": "code",
   "execution_count": 1172,
   "metadata": {},
   "outputs": [
    {
     "data": {
      "text/plain": [
       "a              54\n",
       "Charlie        12\n",
       "Lucy           11\n",
       "Cooper         11\n",
       "Oliver         11\n",
       "Tucker         10\n",
       "Penny          10\n",
       "Lola           10\n",
       "Bo              9\n",
       "Winston         9\n",
       "the             8\n",
       "Sadie           8\n",
       "Toby            7\n",
       "Buddy           7\n",
       "Daisy           7\n",
       "Bailey          7\n",
       "Koda            6\n",
       "Scout           6\n",
       "Leo             6\n",
       "Dave            6\n",
       "Jax             6\n",
       "Bella           6\n",
       "an              6\n",
       "Stanley         6\n",
       "Oscar           6\n",
       "Rusty           6\n",
       "Milo            6\n",
       "Jack            6\n",
       "Larry           5\n",
       "Finn            5\n",
       "               ..\n",
       "Karma           1\n",
       "Goliath         1\n",
       "Lucky           1\n",
       "Remy            1\n",
       "Dallas          1\n",
       "infuriating     1\n",
       "Heinrich        1\n",
       "Ruffles         1\n",
       "Kuyu            1\n",
       "Geoff           1\n",
       "Jaycob          1\n",
       "Emanuel         1\n",
       "Ralphé          1\n",
       "Yoda            1\n",
       "Snicku          1\n",
       "Kial            1\n",
       "Daniel          1\n",
       "Tom             1\n",
       "Georgie         1\n",
       "Gordon          1\n",
       "Rodman          1\n",
       "Koko            1\n",
       "Jessifer        1\n",
       "Venti           1\n",
       "Vinscent        1\n",
       "Chevy           1\n",
       "Juckson         1\n",
       "Creg            1\n",
       "Murphy          1\n",
       "officially      1\n",
       "Name: name, Length: 952, dtype: int64"
      ]
     },
     "execution_count": 1172,
     "metadata": {},
     "output_type": "execute_result"
    }
   ],
   "source": [
    "clean_twitter_archive_df.name.value_counts()"
   ]
  },
  {
   "cell_type": "markdown",
   "metadata": {},
   "source": [
    "Define\n",
    "- capitalise all initial in name varible "
   ]
  },
  {
   "cell_type": "markdown",
   "metadata": {},
   "source": [
    "code"
   ]
  },
  {
   "cell_type": "code",
   "execution_count": 1173,
   "metadata": {},
   "outputs": [],
   "source": [
    "clean_twitter_archive_df.name = clean_twitter_archive_df.name.str.capitalize()"
   ]
  },
  {
   "cell_type": "markdown",
   "metadata": {},
   "source": [
    "test"
   ]
  },
  {
   "cell_type": "code",
   "execution_count": 1174,
   "metadata": {},
   "outputs": [
    {
     "data": {
      "text/plain": [
       "A              54\n",
       "Charlie        12\n",
       "Cooper         11\n",
       "Oliver         11\n",
       "Lucy           11\n",
       "Lola           10\n",
       "Tucker         10\n",
       "Penny          10\n",
       "Winston         9\n",
       "Bo              9\n",
       "Sadie           8\n",
       "The             8\n",
       "Bailey          7\n",
       "Buddy           7\n",
       "Daisy           7\n",
       "Toby            7\n",
       "Jax             6\n",
       "Koda            6\n",
       "Dave            6\n",
       "Milo            6\n",
       "Scout           6\n",
       "An              6\n",
       "Rusty           6\n",
       "Jack            6\n",
       "Bella           6\n",
       "Oscar           6\n",
       "Stanley         6\n",
       "Leo             6\n",
       "Finn            5\n",
       "Sunny           5\n",
       "               ..\n",
       "Maxwell         1\n",
       "Monster         1\n",
       "Lucky           1\n",
       "Remy            1\n",
       "Trevith         1\n",
       "Heinrich        1\n",
       "Ruffles         1\n",
       "Infuriating     1\n",
       "Karma           1\n",
       "Emanuel         1\n",
       "Shelby          1\n",
       "Murphy          1\n",
       "Gordon          1\n",
       "Kial            1\n",
       "Rodman          1\n",
       "Daniel          1\n",
       "Vinscent        1\n",
       "Georgie         1\n",
       "Jaycob          1\n",
       "Geoff           1\n",
       "Koko            1\n",
       "Jessifer        1\n",
       "Venti           1\n",
       "Kuyu            1\n",
       "Chevy           1\n",
       "Bebe            1\n",
       "Juckson         1\n",
       "Mary            1\n",
       "Creg            1\n",
       "Obi             1\n",
       "Name: name, Length: 952, dtype: int64"
      ]
     },
     "execution_count": 1174,
     "metadata": {},
     "output_type": "execute_result"
    }
   ],
   "source": [
    "clean_twitter_archive_df.name.value_counts()"
   ]
  },
  {
   "cell_type": "markdown",
   "metadata": {},
   "source": [
    "elimintate my functions  for dog categories "
   ]
  },
  {
   "cell_type": "markdown",
   "metadata": {},
   "source": [
    "Define \n",
    "- make one column dog_stage for puppo, pupper, floofer and doggo. Ascribe None if dog stage is not given\n",
    "- variables puppo, pupper, floofer and doggo  has lots of None that shull be nulls. \n",
    "- Change all to np.nan also change empty raws to n.nan\n",
    "- deleting puppo, pupper, floofer and doggo invidual variables\n",
    "- change its (dog_stage) datatype from int to categorical"
   ]
  },
  {
   "cell_type": "markdown",
   "metadata": {},
   "source": [
    "Code"
   ]
  },
  {
   "cell_type": "code",
   "execution_count": 1175,
   "metadata": {},
   "outputs": [],
   "source": [
    "# Create new column for dog_stage instead of ['doggo', 'floofer', 'pupper', 'puppo']\n",
    "clean_twitter_archive_df['dog_stage'] = 'None'\n",
    "\n",
    "# Function that will be applied to each row (changes dog_stage value)\n",
    "def get_dog_stage(row):\n",
    "    # Keep all dog stages ()\n",
    "    dog_stage = []\n",
    "    \n",
    "    # Record all times dog stage is given\n",
    "    if row['doggo'] == 'doggo':\n",
    "        dog_stage.append('doggo')\n",
    "    if row['floofer'] == 'floofer':\n",
    "        dog_stage.append('floofer')\n",
    "    if row['pupper'] == 'pupper':\n",
    "        dog_stage.append('pupper')\n",
    "    if row['puppo'] == 'puppo':\n",
    "        dog_stage.append('puppo')\n",
    "        \n",
    "    if len(dog_stage) < 1: # Default to 'None' if list is empty\n",
    "        row['dog_stage'] = 'None'\n",
    "    else: \n",
    "        # Update the row and give back the final row\n",
    "        row['dog_stage'] = ','.join(dog_stage)\n",
    "    \n",
    "    #Return updated column\n",
    "    return row\n",
    "\n",
    "# Apply to each row\n",
    "clean_twitter_archive_df = clean_twitter_archive_df.apply(get_dog_stage, axis=1)"
   ]
  },
  {
   "cell_type": "code",
   "execution_count": 1176,
   "metadata": {},
   "outputs": [],
   "source": [
    "# converting the new varibale into a categorical datatype\n",
    "clean_twitter_archive_df.dog_stage = clean_twitter_archive_df.dog_stage.astype('category')"
   ]
  },
  {
   "cell_type": "code",
   "execution_count": 1177,
   "metadata": {},
   "outputs": [],
   "source": [
    "# attributing np.nan for None\n",
    "clean_twitter_archive_df.dog_stage.replace(\"None\", np.nan, inplace=True)"
   ]
  },
  {
   "cell_type": "code",
   "execution_count": 1178,
   "metadata": {},
   "outputs": [],
   "source": [
    "#  deleting individual columns \n",
    "clean_twitter_archive_df = clean_twitter_archive_df.drop(['doggo', 'floofer', 'pupper', 'puppo'], axis=1)"
   ]
  },
  {
   "cell_type": "markdown",
   "metadata": {},
   "source": [
    "Test"
   ]
  },
  {
   "cell_type": "code",
   "execution_count": 1179,
   "metadata": {},
   "outputs": [
    {
     "name": "stdout",
     "output_type": "stream",
     "text": [
      "<class 'pandas.core.frame.DataFrame'>\n",
      "Int64Index: 2321 entries, 2355 to 0\n",
      "Data columns (total 8 columns):\n",
      "tweet_id         2321 non-null int64\n",
      "timestamp        2321 non-null object\n",
      "source           2321 non-null object\n",
      "text             2321 non-null object\n",
      "expanded_urls    2271 non-null object\n",
      "name             1601 non-null object\n",
      "rating_ratio     2321 non-null float64\n",
      "dog_stage        379 non-null category\n",
      "dtypes: category(1), float64(1), int64(1), object(5)\n",
      "memory usage: 147.7+ KB\n"
     ]
    }
   ],
   "source": [
    "clean_twitter_archive_df.info()"
   ]
  },
  {
   "cell_type": "code",
   "execution_count": 1180,
   "metadata": {},
   "outputs": [
    {
     "data": {
      "text/plain": [
       "pupper           244\n",
       "doggo             83\n",
       "puppo             29\n",
       "doggo,pupper      12\n",
       "floofer            9\n",
       "doggo,puppo        1\n",
       "doggo,floofer      1\n",
       "None               0\n",
       "Name: dog_stage, dtype: int64"
      ]
     },
     "execution_count": 1180,
     "metadata": {},
     "output_type": "execute_result"
    }
   ],
   "source": [
    "clean_twitter_archive_df.dog_stage.value_counts()"
   ]
  },
  {
   "cell_type": "markdown",
   "metadata": {},
   "source": [
    "Define \n",
    "- weet_id numeric. should be categorical. covert to the latter using astye"
   ]
  },
  {
   "cell_type": "markdown",
   "metadata": {},
   "source": [
    "Code"
   ]
  },
  {
   "cell_type": "code",
   "execution_count": 1181,
   "metadata": {},
   "outputs": [],
   "source": [
    "clean_twitter_archive_df.tweet_id = clean_twitter_archive_df.tweet_id.astype(str)"
   ]
  },
  {
   "cell_type": "markdown",
   "metadata": {},
   "source": [
    "test"
   ]
  },
  {
   "cell_type": "code",
   "execution_count": 1182,
   "metadata": {},
   "outputs": [
    {
     "data": {
      "text/plain": [
       "2355    666020888022790149\n",
       "Name: tweet_id, dtype: object"
      ]
     },
     "execution_count": 1182,
     "metadata": {},
     "output_type": "execute_result"
    }
   ],
   "source": [
    "clean_twitter_archive_df.tweet_id.head(1)"
   ]
  },
  {
   "cell_type": "markdown",
   "metadata": {},
   "source": [
    "Define \n",
    "- Change datatype for timestamp from object to datetime "
   ]
  },
  {
   "cell_type": "markdown",
   "metadata": {},
   "source": [
    "Code "
   ]
  },
  {
   "cell_type": "code",
   "execution_count": 901,
   "metadata": {},
   "outputs": [],
   "source": [
    "clean_twitter_archive_df.timestamp = pd.to_datetime(clean_twitter_archive_df.timestamp, infer_datetime_format=True)"
   ]
  },
  {
   "cell_type": "markdown",
   "metadata": {},
   "source": [
    "test"
   ]
  },
  {
   "cell_type": "code",
   "execution_count": 902,
   "metadata": {},
   "outputs": [
    {
     "data": {
      "text/plain": [
       "2355   2015-11-15 22:32:08\n",
       "Name: timestamp, dtype: datetime64[ns]"
      ]
     },
     "execution_count": 902,
     "metadata": {},
     "output_type": "execute_result"
    }
   ],
   "source": [
    "clean_twitter_archive_df.timestamp.head(1)"
   ]
  },
  {
   "cell_type": "markdown",
   "metadata": {},
   "source": [
    "Define\n",
    "- Make sure that tweets with these character  '^RT @' as excluded as they represent retweets"
   ]
  },
  {
   "cell_type": "code",
   "execution_count": 1184,
   "metadata": {},
   "outputs": [],
   "source": [
    "# Finding all the retweets \n",
    "retweets = clean_twitter_archive_df.text.str.match('^RT @')\n",
    "\n",
    "# Only keep the tweets that aren't retweets\n",
    "clean_twitter_archive_df = clean_twitter_archive_df[~retweets]"
   ]
  },
  {
   "cell_type": "markdown",
   "metadata": {},
   "source": [
    "Test"
   ]
  },
  {
   "cell_type": "code",
   "execution_count": 1185,
   "metadata": {},
   "outputs": [
    {
     "data": {
      "text/html": [
       "<div>\n",
       "<style scoped>\n",
       "    .dataframe tbody tr th:only-of-type {\n",
       "        vertical-align: middle;\n",
       "    }\n",
       "\n",
       "    .dataframe tbody tr th {\n",
       "        vertical-align: top;\n",
       "    }\n",
       "\n",
       "    .dataframe thead th {\n",
       "        text-align: right;\n",
       "    }\n",
       "</style>\n",
       "<table border=\"1\" class=\"dataframe\">\n",
       "  <thead>\n",
       "    <tr style=\"text-align: right;\">\n",
       "      <th></th>\n",
       "      <th>tweet_id</th>\n",
       "      <th>timestamp</th>\n",
       "      <th>source</th>\n",
       "      <th>text</th>\n",
       "      <th>expanded_urls</th>\n",
       "      <th>name</th>\n",
       "      <th>rating_ratio</th>\n",
       "      <th>dog_stage</th>\n",
       "    </tr>\n",
       "  </thead>\n",
       "  <tbody>\n",
       "  </tbody>\n",
       "</table>\n",
       "</div>"
      ],
      "text/plain": [
       "Empty DataFrame\n",
       "Columns: [tweet_id, timestamp, source, text, expanded_urls, name, rating_ratio, dog_stage]\n",
       "Index: []"
      ]
     },
     "execution_count": 1185,
     "metadata": {},
     "output_type": "execute_result"
    }
   ],
   "source": [
    "# Test that there are no retweets\n",
    "retweets = clean_twitter_archive_df.text.str.match('^RT @')\n",
    "clean_twitter_archive_df[retweets]"
   ]
  },
  {
   "cell_type": "code",
   "execution_count": 1186,
   "metadata": {},
   "outputs": [],
   "source": [
    "# no retweets "
   ]
  },
  {
   "cell_type": "markdown",
   "metadata": {},
   "source": [
    "3.2 Assessing image_predictions_df"
   ]
  },
  {
   "cell_type": "code",
   "execution_count": 1187,
   "metadata": {},
   "outputs": [],
   "source": [
    "# copying the data so that the changes in the clean version does not apply to the intitial df\n",
    "clean_image_predictions_df = image_predictions_df.copy()"
   ]
  },
  {
   "cell_type": "markdown",
   "metadata": {},
   "source": [
    "Define\n",
    "- rename img_num, p1, p1_config, p1_dog variable so as to become more informative\n",
    "- delete p2,p2_conf, p2_dog, p3, p3_conf, p3_dog\n",
    "- capitise names in p1\n",
    "- change it to caregorical datatype"
   ]
  },
  {
   "cell_type": "code",
   "execution_count": 1188,
   "metadata": {},
   "outputs": [
    {
     "data": {
      "text/plain": [
       "golden_retriever      150\n",
       "Labrador_retriever    100\n",
       "Pembroke               89\n",
       "Chihuahua              83\n",
       "pug                    57\n",
       "Name: p1, dtype: int64"
      ]
     },
     "execution_count": 1188,
     "metadata": {},
     "output_type": "execute_result"
    }
   ],
   "source": [
    "clean_image_predictions_df.p1.value_counts().head()"
   ]
  },
  {
   "cell_type": "markdown",
   "metadata": {},
   "source": [
    "Code"
   ]
  },
  {
   "cell_type": "code",
   "execution_count": 1189,
   "metadata": {},
   "outputs": [],
   "source": [
    "# changing the names of the columns\n",
    "clean_image_predictions_df.rename(columns={'img_num': 'image_count',\n",
    "                                    'p1': 'predicted_dog',\n",
    "                                    'p1_conf': 'confidence',\n",
    "                                    'p1_dog':'breed_dog_or_not'}, inplace=True)\n",
    "# deleting the other variables\n",
    "clean_image_predictions_df.drop(['p2', 'p2_conf', 'p2_dog', 'p3', \n",
    "                  'p3_conf', 'p3_dog'], inplace = True, axis = 1)\n",
    "\n",
    "# capitalising p1 (now predicted_dog) names\n",
    "clean_image_predictions_df.predicted_dog = clean_image_predictions_df.predicted_dog.str.capitalize()"
   ]
  },
  {
   "cell_type": "markdown",
   "metadata": {},
   "source": [
    "test"
   ]
  },
  {
   "cell_type": "code",
   "execution_count": 1190,
   "metadata": {},
   "outputs": [
    {
     "name": "stdout",
     "output_type": "stream",
     "text": [
      "<class 'pandas.core.frame.DataFrame'>\n",
      "RangeIndex: 2075 entries, 0 to 2074\n",
      "Data columns (total 6 columns):\n",
      "tweet_id            2075 non-null int64\n",
      "jpg_url             2075 non-null object\n",
      "image_count         2075 non-null int64\n",
      "predicted_dog       2075 non-null object\n",
      "confidence          2075 non-null float64\n",
      "breed_dog_or_not    2075 non-null bool\n",
      "dtypes: bool(1), float64(1), int64(2), object(2)\n",
      "memory usage: 83.2+ KB\n"
     ]
    }
   ],
   "source": [
    "clean_image_predictions_df.info()"
   ]
  },
  {
   "cell_type": "markdown",
   "metadata": {},
   "source": [
    "Define\n",
    "- tweet_id is a numerical.Change into a string"
   ]
  },
  {
   "cell_type": "markdown",
   "metadata": {},
   "source": [
    "Code"
   ]
  },
  {
   "cell_type": "code",
   "execution_count": 1191,
   "metadata": {},
   "outputs": [],
   "source": [
    "clean_image_predictions_df.tweet_id = clean_image_predictions_df.tweet_id.astype(str)"
   ]
  },
  {
   "cell_type": "markdown",
   "metadata": {},
   "source": [
    "Test"
   ]
  },
  {
   "cell_type": "code",
   "execution_count": 1192,
   "metadata": {},
   "outputs": [
    {
     "data": {
      "text/plain": [
       "0    666020888022790149\n",
       "Name: tweet_id, dtype: object"
      ]
     },
     "execution_count": 1192,
     "metadata": {},
     "output_type": "execute_result"
    }
   ],
   "source": [
    "clean_image_predictions_df.tweet_id.head(1)"
   ]
  },
  {
   "cell_type": "markdown",
   "metadata": {},
   "source": [
    "3.3 Cleaning tweets_df"
   ]
  },
  {
   "cell_type": "code",
   "execution_count": 1193,
   "metadata": {},
   "outputs": [],
   "source": [
    "# copying the data so that the changes in the clean version does not apply to the intitial df\n",
    "clean_tweets_df = tweets_df.copy()"
   ]
  },
  {
   "cell_type": "code",
   "execution_count": 1194,
   "metadata": {},
   "outputs": [
    {
     "name": "stdout",
     "output_type": "stream",
     "text": [
      "<class 'pandas.core.frame.DataFrame'>\n",
      "RangeIndex: 2337 entries, 0 to 2336\n",
      "Data columns (total 3 columns):\n",
      "favorite_count    2337 non-null int64\n",
      "retweet_count     2337 non-null int64\n",
      "tweet_id          2337 non-null object\n",
      "dtypes: int64(2), object(1)\n",
      "memory usage: 54.9+ KB\n"
     ]
    }
   ],
   "source": [
    "clean_tweets_df.info()"
   ]
  },
  {
   "cell_type": "code",
   "execution_count": 1195,
   "metadata": {},
   "outputs": [
    {
     "data": {
      "text/html": [
       "<div>\n",
       "<style scoped>\n",
       "    .dataframe tbody tr th:only-of-type {\n",
       "        vertical-align: middle;\n",
       "    }\n",
       "\n",
       "    .dataframe tbody tr th {\n",
       "        vertical-align: top;\n",
       "    }\n",
       "\n",
       "    .dataframe thead th {\n",
       "        text-align: right;\n",
       "    }\n",
       "</style>\n",
       "<table border=\"1\" class=\"dataframe\">\n",
       "  <thead>\n",
       "    <tr style=\"text-align: right;\">\n",
       "      <th></th>\n",
       "      <th>favorite_count</th>\n",
       "      <th>retweet_count</th>\n",
       "    </tr>\n",
       "  </thead>\n",
       "  <tbody>\n",
       "    <tr>\n",
       "      <th>count</th>\n",
       "      <td>2337.000000</td>\n",
       "      <td>2337.000000</td>\n",
       "    </tr>\n",
       "    <tr>\n",
       "      <th>mean</th>\n",
       "      <td>7883.113393</td>\n",
       "      <td>2898.118100</td>\n",
       "    </tr>\n",
       "    <tr>\n",
       "      <th>std</th>\n",
       "      <td>12225.430530</td>\n",
       "      <td>4889.405005</td>\n",
       "    </tr>\n",
       "    <tr>\n",
       "      <th>min</th>\n",
       "      <td>0.000000</td>\n",
       "      <td>1.000000</td>\n",
       "    </tr>\n",
       "    <tr>\n",
       "      <th>25%</th>\n",
       "      <td>1363.000000</td>\n",
       "      <td>582.000000</td>\n",
       "    </tr>\n",
       "    <tr>\n",
       "      <th>50%</th>\n",
       "      <td>3425.000000</td>\n",
       "      <td>1350.000000</td>\n",
       "    </tr>\n",
       "    <tr>\n",
       "      <th>75%</th>\n",
       "      <td>9655.000000</td>\n",
       "      <td>3378.000000</td>\n",
       "    </tr>\n",
       "    <tr>\n",
       "      <th>max</th>\n",
       "      <td>162768.000000</td>\n",
       "      <td>82849.000000</td>\n",
       "    </tr>\n",
       "  </tbody>\n",
       "</table>\n",
       "</div>"
      ],
      "text/plain": [
       "       favorite_count  retweet_count\n",
       "count     2337.000000    2337.000000\n",
       "mean      7883.113393    2898.118100\n",
       "std      12225.430530    4889.405005\n",
       "min          0.000000       1.000000\n",
       "25%       1363.000000     582.000000\n",
       "50%       3425.000000    1350.000000\n",
       "75%       9655.000000    3378.000000\n",
       "max     162768.000000   82849.000000"
      ]
     },
     "execution_count": 1195,
     "metadata": {},
     "output_type": "execute_result"
    }
   ],
   "source": [
    "clean_tweets_df.describe()"
   ]
  },
  {
   "cell_type": "markdown",
   "metadata": {},
   "source": [
    "Define\n",
    "- tweet_id is numerical.Convert it into categorical"
   ]
  },
  {
   "cell_type": "markdown",
   "metadata": {},
   "source": [
    "Code"
   ]
  },
  {
   "cell_type": "code",
   "execution_count": 1196,
   "metadata": {},
   "outputs": [],
   "source": [
    "clean_tweets_df.tweet_id = clean_tweets_df.tweet_id.astype(str)"
   ]
  },
  {
   "cell_type": "markdown",
   "metadata": {},
   "source": [
    "Test"
   ]
  },
  {
   "cell_type": "code",
   "execution_count": 1197,
   "metadata": {},
   "outputs": [
    {
     "data": {
      "text/plain": [
       "0    666020881337073664\n",
       "Name: tweet_id, dtype: object"
      ]
     },
     "execution_count": 1197,
     "metadata": {},
     "output_type": "execute_result"
    }
   ],
   "source": [
    "clean_tweets_df.tweet_id.head(1)"
   ]
  },
  {
   "cell_type": "markdown",
   "metadata": {},
   "source": [
    "3.4 Combining all three datasets"
   ]
  },
  {
   "cell_type": "markdown",
   "metadata": {},
   "source": [
    "Define \n",
    "- combine all three cleaned datasets"
   ]
  },
  {
   "cell_type": "markdown",
   "metadata": {},
   "source": [
    "Code"
   ]
  },
  {
   "cell_type": "code",
   "execution_count": 1198,
   "metadata": {},
   "outputs": [],
   "source": [
    "# joining the datasets\n",
    "twitter_archive_master = clean_twitter_archive_df.merge(clean_image_predictions_df, on='tweet_id')\n",
    "twitter_archive_master = twitter_archive_master.append(clean_tweets_df, sort=False) "
   ]
  },
  {
   "cell_type": "markdown",
   "metadata": {},
   "source": [
    "Test"
   ]
  },
  {
   "cell_type": "code",
   "execution_count": 1199,
   "metadata": {},
   "outputs": [
    {
     "name": "stdout",
     "output_type": "stream",
     "text": [
      "<class 'pandas.core.frame.DataFrame'>\n",
      "Int64Index: 4308 entries, 0 to 2336\n",
      "Data columns (total 15 columns):\n",
      "tweet_id            4308 non-null object\n",
      "timestamp           1971 non-null object\n",
      "source              1971 non-null object\n",
      "text                1971 non-null object\n",
      "expanded_urls       1971 non-null object\n",
      "name                1439 non-null object\n",
      "rating_ratio        1971 non-null float64\n",
      "dog_stage           305 non-null object\n",
      "jpg_url             1971 non-null object\n",
      "image_count         1971 non-null float64\n",
      "predicted_dog       1971 non-null object\n",
      "confidence          1971 non-null float64\n",
      "breed_dog_or_not    1971 non-null object\n",
      "favorite_count      2337 non-null float64\n",
      "retweet_count       2337 non-null float64\n",
      "dtypes: float64(5), object(10)\n",
      "memory usage: 538.5+ KB\n"
     ]
    }
   ],
   "source": [
    "twitter_archive_master.info()"
   ]
  },
  {
   "cell_type": "markdown",
   "metadata": {},
   "source": [
    "4. Store"
   ]
  },
  {
   "cell_type": "code",
   "execution_count": 1200,
   "metadata": {},
   "outputs": [],
   "source": [
    "# saving the clean datasets into csv files locally\n",
    "\n",
    "twitter_archive_master.to_csv('twitter_archive_master.csv', encoding='utf-8', index=False)\n",
    "clean_twitter_archive_df.to_csv('archive_clean.csv', encoding='utf-8', index=False)\n",
    "clean_image_predictions_df.to_csv('image_clean.csv', encoding='utf-8', index=False)\n",
    "clean_tweets_df.to_csv('clean_tweets.csv', encoding='utf-8', index=False)"
   ]
  },
  {
   "cell_type": "markdown",
   "metadata": {},
   "source": [
    "5. Analysis and Vizualisations"
   ]
  },
  {
   "cell_type": "code",
   "execution_count": 1205,
   "metadata": {},
   "outputs": [
    {
     "name": "stdout",
     "output_type": "stream",
     "text": [
      "<class 'pandas.core.frame.DataFrame'>\n",
      "Int64Index: 4308 entries, 0 to 2336\n",
      "Data columns (total 15 columns):\n",
      "tweet_id            4308 non-null object\n",
      "timestamp           1971 non-null object\n",
      "source              1971 non-null object\n",
      "text                1971 non-null object\n",
      "expanded_urls       1971 non-null object\n",
      "name                1439 non-null object\n",
      "rating_ratio        1971 non-null float64\n",
      "dog_stage           305 non-null object\n",
      "jpg_url             1971 non-null object\n",
      "image_count         1971 non-null float64\n",
      "predicted_dog       1971 non-null object\n",
      "confidence          1971 non-null float64\n",
      "breed_dog_or_not    1971 non-null object\n",
      "favorite_count      2337 non-null float64\n",
      "retweet_count       2337 non-null float64\n",
      "dtypes: float64(5), object(10)\n",
      "memory usage: 538.5+ KB\n"
     ]
    }
   ],
   "source": [
    "# summarising the data. there are many missing values in different columns\n",
    "twitter_archive_master.info()"
   ]
  },
  {
   "cell_type": "code",
   "execution_count": 1206,
   "metadata": {},
   "outputs": [
    {
     "data": {
      "text/html": [
       "<div>\n",
       "<style scoped>\n",
       "    .dataframe tbody tr th:only-of-type {\n",
       "        vertical-align: middle;\n",
       "    }\n",
       "\n",
       "    .dataframe tbody tr th {\n",
       "        vertical-align: top;\n",
       "    }\n",
       "\n",
       "    .dataframe thead th {\n",
       "        text-align: right;\n",
       "    }\n",
       "</style>\n",
       "<table border=\"1\" class=\"dataframe\">\n",
       "  <thead>\n",
       "    <tr style=\"text-align: right;\">\n",
       "      <th></th>\n",
       "      <th>tweet_id</th>\n",
       "      <th>timestamp</th>\n",
       "      <th>source</th>\n",
       "      <th>text</th>\n",
       "      <th>expanded_urls</th>\n",
       "      <th>name</th>\n",
       "      <th>rating_ratio</th>\n",
       "      <th>dog_stage</th>\n",
       "      <th>jpg_url</th>\n",
       "      <th>image_count</th>\n",
       "      <th>predicted_dog</th>\n",
       "      <th>confidence</th>\n",
       "      <th>breed_dog_or_not</th>\n",
       "      <th>favorite_count</th>\n",
       "      <th>retweet_count</th>\n",
       "    </tr>\n",
       "  </thead>\n",
       "  <tbody>\n",
       "    <tr>\n",
       "      <th>1008</th>\n",
       "      <td>710269109699739648</td>\n",
       "      <td>2016-03-17 00:58:46 +0000</td>\n",
       "      <td>&lt;a href=\"http://twitter.com/download/iphone\" r...</td>\n",
       "      <td>The squad is back for St. Patrick's Day! ☘ 💚\\n...</td>\n",
       "      <td>https://twitter.com/dog_rates/status/710269109...</td>\n",
       "      <td>NaN</td>\n",
       "      <td>1.0</td>\n",
       "      <td>NaN</td>\n",
       "      <td>https://pbs.twimg.com/media/Cdth_KyWEAEXH3u.jpg</td>\n",
       "      <td>1.0</td>\n",
       "      <td>Pug</td>\n",
       "      <td>0.415495</td>\n",
       "      <td>True</td>\n",
       "      <td>NaN</td>\n",
       "      <td>NaN</td>\n",
       "    </tr>\n",
       "    <tr>\n",
       "      <th>1221</th>\n",
       "      <td>728751174258708481</td>\n",
       "      <td>NaN</td>\n",
       "      <td>NaN</td>\n",
       "      <td>NaN</td>\n",
       "      <td>NaN</td>\n",
       "      <td>NaN</td>\n",
       "      <td>NaN</td>\n",
       "      <td>NaN</td>\n",
       "      <td>NaN</td>\n",
       "      <td>NaN</td>\n",
       "      <td>NaN</td>\n",
       "      <td>NaN</td>\n",
       "      <td>NaN</td>\n",
       "      <td>2872.0</td>\n",
       "      <td>711.0</td>\n",
       "    </tr>\n",
       "    <tr>\n",
       "      <th>410</th>\n",
       "      <td>673707042180341760</td>\n",
       "      <td>NaN</td>\n",
       "      <td>NaN</td>\n",
       "      <td>NaN</td>\n",
       "      <td>NaN</td>\n",
       "      <td>NaN</td>\n",
       "      <td>NaN</td>\n",
       "      <td>NaN</td>\n",
       "      <td>NaN</td>\n",
       "      <td>NaN</td>\n",
       "      <td>NaN</td>\n",
       "      <td>NaN</td>\n",
       "      <td>NaN</td>\n",
       "      <td>1107.0</td>\n",
       "      <td>401.0</td>\n",
       "    </tr>\n",
       "    <tr>\n",
       "      <th>917</th>\n",
       "      <td>702684942141153280</td>\n",
       "      <td>2016-02-25 02:42:00 +0000</td>\n",
       "      <td>&lt;a href=\"http://twitter.com/download/iphone\" r...</td>\n",
       "      <td>This is Lucy. She's sick of these bullshit gen...</td>\n",
       "      <td>https://twitter.com/dog_rates/status/702684942...</td>\n",
       "      <td>Lucy</td>\n",
       "      <td>1.0</td>\n",
       "      <td>NaN</td>\n",
       "      <td>https://pbs.twimg.com/media/CcBwOn0XEAA7bNQ.jpg</td>\n",
       "      <td>1.0</td>\n",
       "      <td>Golden_retriever</td>\n",
       "      <td>0.514085</td>\n",
       "      <td>True</td>\n",
       "      <td>NaN</td>\n",
       "      <td>NaN</td>\n",
       "    </tr>\n",
       "    <tr>\n",
       "      <th>1559</th>\n",
       "      <td>803638050916102144</td>\n",
       "      <td>2016-11-29 16:33:36 +0000</td>\n",
       "      <td>&lt;a href=\"http://twitter.com/download/iphone\" r...</td>\n",
       "      <td>Pupper hath acquire enemy. 13/10 https://t.co/...</td>\n",
       "      <td>https://twitter.com/dog_rates/status/803638050...</td>\n",
       "      <td>NaN</td>\n",
       "      <td>1.0</td>\n",
       "      <td>pupper</td>\n",
       "      <td>https://pbs.twimg.com/ext_tw_video_thumb/80363...</td>\n",
       "      <td>1.0</td>\n",
       "      <td>Labrador_retriever</td>\n",
       "      <td>0.372776</td>\n",
       "      <td>True</td>\n",
       "      <td>NaN</td>\n",
       "      <td>NaN</td>\n",
       "    </tr>\n",
       "    <tr>\n",
       "      <th>847</th>\n",
       "      <td>696877980375769088</td>\n",
       "      <td>2016-02-09 02:07:12 +0000</td>\n",
       "      <td>&lt;a href=\"http://twitter.com/download/iphone\" r...</td>\n",
       "      <td>This is Misty. She's in a predicament. Not sur...</td>\n",
       "      <td>https://twitter.com/dog_rates/status/696877980...</td>\n",
       "      <td>Misty</td>\n",
       "      <td>1.0</td>\n",
       "      <td>pupper</td>\n",
       "      <td>https://pbs.twimg.com/media/CavO0uuWEAE96Ed.jpg</td>\n",
       "      <td>1.0</td>\n",
       "      <td>Space_heater</td>\n",
       "      <td>0.206876</td>\n",
       "      <td>False</td>\n",
       "      <td>NaN</td>\n",
       "      <td>NaN</td>\n",
       "    </tr>\n",
       "    <tr>\n",
       "      <th>2136</th>\n",
       "      <td>852553437929721865</td>\n",
       "      <td>NaN</td>\n",
       "      <td>NaN</td>\n",
       "      <td>NaN</td>\n",
       "      <td>NaN</td>\n",
       "      <td>NaN</td>\n",
       "      <td>NaN</td>\n",
       "      <td>NaN</td>\n",
       "      <td>NaN</td>\n",
       "      <td>NaN</td>\n",
       "      <td>NaN</td>\n",
       "      <td>NaN</td>\n",
       "      <td>NaN</td>\n",
       "      <td>16642.0</td>\n",
       "      <td>3627.0</td>\n",
       "    </tr>\n",
       "    <tr>\n",
       "      <th>559</th>\n",
       "      <td>677301027595530240</td>\n",
       "      <td>NaN</td>\n",
       "      <td>NaN</td>\n",
       "      <td>NaN</td>\n",
       "      <td>NaN</td>\n",
       "      <td>NaN</td>\n",
       "      <td>NaN</td>\n",
       "      <td>NaN</td>\n",
       "      <td>NaN</td>\n",
       "      <td>NaN</td>\n",
       "      <td>NaN</td>\n",
       "      <td>NaN</td>\n",
       "      <td>NaN</td>\n",
       "      <td>1278.0</td>\n",
       "      <td>430.0</td>\n",
       "    </tr>\n",
       "    <tr>\n",
       "      <th>1076</th>\n",
       "      <td>na</td>\n",
       "      <td>NaN</td>\n",
       "      <td>NaN</td>\n",
       "      <td>NaN</td>\n",
       "      <td>NaN</td>\n",
       "      <td>NaN</td>\n",
       "      <td>NaN</td>\n",
       "      <td>NaN</td>\n",
       "      <td>NaN</td>\n",
       "      <td>NaN</td>\n",
       "      <td>NaN</td>\n",
       "      <td>NaN</td>\n",
       "      <td>NaN</td>\n",
       "      <td>1854.0</td>\n",
       "      <td>691.0</td>\n",
       "    </tr>\n",
       "    <tr>\n",
       "      <th>351</th>\n",
       "      <td>672466070121390080</td>\n",
       "      <td>NaN</td>\n",
       "      <td>NaN</td>\n",
       "      <td>NaN</td>\n",
       "      <td>NaN</td>\n",
       "      <td>NaN</td>\n",
       "      <td>NaN</td>\n",
       "      <td>NaN</td>\n",
       "      <td>NaN</td>\n",
       "      <td>NaN</td>\n",
       "      <td>NaN</td>\n",
       "      <td>NaN</td>\n",
       "      <td>NaN</td>\n",
       "      <td>1362.0</td>\n",
       "      <td>551.0</td>\n",
       "    </tr>\n",
       "  </tbody>\n",
       "</table>\n",
       "</div>"
      ],
      "text/plain": [
       "                tweet_id                  timestamp  \\\n",
       "1008  710269109699739648  2016-03-17 00:58:46 +0000   \n",
       "1221  728751174258708481                        NaN   \n",
       "410   673707042180341760                        NaN   \n",
       "917   702684942141153280  2016-02-25 02:42:00 +0000   \n",
       "1559  803638050916102144  2016-11-29 16:33:36 +0000   \n",
       "847   696877980375769088  2016-02-09 02:07:12 +0000   \n",
       "2136  852553437929721865                        NaN   \n",
       "559   677301027595530240                        NaN   \n",
       "1076                  na                        NaN   \n",
       "351   672466070121390080                        NaN   \n",
       "\n",
       "                                                 source  \\\n",
       "1008  <a href=\"http://twitter.com/download/iphone\" r...   \n",
       "1221                                                NaN   \n",
       "410                                                 NaN   \n",
       "917   <a href=\"http://twitter.com/download/iphone\" r...   \n",
       "1559  <a href=\"http://twitter.com/download/iphone\" r...   \n",
       "847   <a href=\"http://twitter.com/download/iphone\" r...   \n",
       "2136                                                NaN   \n",
       "559                                                 NaN   \n",
       "1076                                                NaN   \n",
       "351                                                 NaN   \n",
       "\n",
       "                                                   text  \\\n",
       "1008  The squad is back for St. Patrick's Day! ☘ 💚\\n...   \n",
       "1221                                                NaN   \n",
       "410                                                 NaN   \n",
       "917   This is Lucy. She's sick of these bullshit gen...   \n",
       "1559  Pupper hath acquire enemy. 13/10 https://t.co/...   \n",
       "847   This is Misty. She's in a predicament. Not sur...   \n",
       "2136                                                NaN   \n",
       "559                                                 NaN   \n",
       "1076                                                NaN   \n",
       "351                                                 NaN   \n",
       "\n",
       "                                          expanded_urls   name  rating_ratio  \\\n",
       "1008  https://twitter.com/dog_rates/status/710269109...    NaN           1.0   \n",
       "1221                                                NaN    NaN           NaN   \n",
       "410                                                 NaN    NaN           NaN   \n",
       "917   https://twitter.com/dog_rates/status/702684942...   Lucy           1.0   \n",
       "1559  https://twitter.com/dog_rates/status/803638050...    NaN           1.0   \n",
       "847   https://twitter.com/dog_rates/status/696877980...  Misty           1.0   \n",
       "2136                                                NaN    NaN           NaN   \n",
       "559                                                 NaN    NaN           NaN   \n",
       "1076                                                NaN    NaN           NaN   \n",
       "351                                                 NaN    NaN           NaN   \n",
       "\n",
       "     dog_stage                                            jpg_url  \\\n",
       "1008       NaN    https://pbs.twimg.com/media/Cdth_KyWEAEXH3u.jpg   \n",
       "1221       NaN                                                NaN   \n",
       "410        NaN                                                NaN   \n",
       "917        NaN    https://pbs.twimg.com/media/CcBwOn0XEAA7bNQ.jpg   \n",
       "1559    pupper  https://pbs.twimg.com/ext_tw_video_thumb/80363...   \n",
       "847     pupper    https://pbs.twimg.com/media/CavO0uuWEAE96Ed.jpg   \n",
       "2136       NaN                                                NaN   \n",
       "559        NaN                                                NaN   \n",
       "1076       NaN                                                NaN   \n",
       "351        NaN                                                NaN   \n",
       "\n",
       "      image_count       predicted_dog  confidence breed_dog_or_not  \\\n",
       "1008          1.0                 Pug    0.415495             True   \n",
       "1221          NaN                 NaN         NaN              NaN   \n",
       "410           NaN                 NaN         NaN              NaN   \n",
       "917           1.0    Golden_retriever    0.514085             True   \n",
       "1559          1.0  Labrador_retriever    0.372776             True   \n",
       "847           1.0        Space_heater    0.206876            False   \n",
       "2136          NaN                 NaN         NaN              NaN   \n",
       "559           NaN                 NaN         NaN              NaN   \n",
       "1076          NaN                 NaN         NaN              NaN   \n",
       "351           NaN                 NaN         NaN              NaN   \n",
       "\n",
       "      favorite_count  retweet_count  \n",
       "1008             NaN            NaN  \n",
       "1221          2872.0          711.0  \n",
       "410           1107.0          401.0  \n",
       "917              NaN            NaN  \n",
       "1559             NaN            NaN  \n",
       "847              NaN            NaN  \n",
       "2136         16642.0         3627.0  \n",
       "559           1278.0          430.0  \n",
       "1076          1854.0          691.0  \n",
       "351           1362.0          551.0  "
      ]
     },
     "execution_count": 1206,
     "metadata": {},
     "output_type": "execute_result"
    }
   ],
   "source": [
    "twitter_archive_master.sample(10)"
   ]
  },
  {
   "cell_type": "code",
   "execution_count": 1221,
   "metadata": {},
   "outputs": [
    {
     "data": {
      "text/plain": [
       "0"
      ]
     },
     "execution_count": 1221,
     "metadata": {},
     "output_type": "execute_result"
    }
   ],
   "source": [
    "# checking for duplicates. there are not dupplicates\n",
    "twitter_archive_master.duplicated().sum()"
   ]
  },
  {
   "cell_type": "code",
   "execution_count": 1223,
   "metadata": {},
   "outputs": [
    {
     "data": {
      "text/plain": [
       "tweet_id               0\n",
       "timestamp           2337\n",
       "source              2337\n",
       "text                2337\n",
       "expanded_urls       2337\n",
       "name                2869\n",
       "rating_ratio        2337\n",
       "dog_stage           4003\n",
       "jpg_url             2337\n",
       "image_count         2337\n",
       "predicted_dog       2337\n",
       "confidence          2337\n",
       "breed_dog_or_not    2337\n",
       "favorite_count      1971\n",
       "retweet_count       1971\n",
       "dtype: int64"
      ]
     },
     "execution_count": 1223,
     "metadata": {},
     "output_type": "execute_result"
    }
   ],
   "source": [
    "# checking for null values. most variabales have null values \n",
    "twitter_archive_master.isnull().sum()"
   ]
  },
  {
   "cell_type": "code",
   "execution_count": 1204,
   "metadata": {},
   "outputs": [
    {
     "data": {
      "text/html": [
       "<div>\n",
       "<style scoped>\n",
       "    .dataframe tbody tr th:only-of-type {\n",
       "        vertical-align: middle;\n",
       "    }\n",
       "\n",
       "    .dataframe tbody tr th {\n",
       "        vertical-align: top;\n",
       "    }\n",
       "\n",
       "    .dataframe thead th {\n",
       "        text-align: right;\n",
       "    }\n",
       "</style>\n",
       "<table border=\"1\" class=\"dataframe\">\n",
       "  <thead>\n",
       "    <tr style=\"text-align: right;\">\n",
       "      <th></th>\n",
       "      <th>rating_ratio</th>\n",
       "      <th>image_count</th>\n",
       "      <th>confidence</th>\n",
       "      <th>favorite_count</th>\n",
       "      <th>retweet_count</th>\n",
       "    </tr>\n",
       "  </thead>\n",
       "  <tbody>\n",
       "    <tr>\n",
       "      <th>count</th>\n",
       "      <td>1971.0</td>\n",
       "      <td>1971.00000</td>\n",
       "      <td>1971.000000</td>\n",
       "      <td>2337.000000</td>\n",
       "      <td>2337.000000</td>\n",
       "    </tr>\n",
       "    <tr>\n",
       "      <th>mean</th>\n",
       "      <td>1.0</td>\n",
       "      <td>1.20345</td>\n",
       "      <td>0.593893</td>\n",
       "      <td>7883.113393</td>\n",
       "      <td>2898.118100</td>\n",
       "    </tr>\n",
       "    <tr>\n",
       "      <th>std</th>\n",
       "      <td>0.0</td>\n",
       "      <td>0.56164</td>\n",
       "      <td>0.272043</td>\n",
       "      <td>12225.430530</td>\n",
       "      <td>4889.405005</td>\n",
       "    </tr>\n",
       "    <tr>\n",
       "      <th>min</th>\n",
       "      <td>1.0</td>\n",
       "      <td>1.00000</td>\n",
       "      <td>0.044333</td>\n",
       "      <td>0.000000</td>\n",
       "      <td>1.000000</td>\n",
       "    </tr>\n",
       "    <tr>\n",
       "      <th>25%</th>\n",
       "      <td>1.0</td>\n",
       "      <td>1.00000</td>\n",
       "      <td>0.361530</td>\n",
       "      <td>1363.000000</td>\n",
       "      <td>582.000000</td>\n",
       "    </tr>\n",
       "    <tr>\n",
       "      <th>50%</th>\n",
       "      <td>1.0</td>\n",
       "      <td>1.00000</td>\n",
       "      <td>0.587764</td>\n",
       "      <td>3425.000000</td>\n",
       "      <td>1350.000000</td>\n",
       "    </tr>\n",
       "    <tr>\n",
       "      <th>75%</th>\n",
       "      <td>1.0</td>\n",
       "      <td>1.00000</td>\n",
       "      <td>0.844583</td>\n",
       "      <td>9655.000000</td>\n",
       "      <td>3378.000000</td>\n",
       "    </tr>\n",
       "    <tr>\n",
       "      <th>max</th>\n",
       "      <td>1.0</td>\n",
       "      <td>4.00000</td>\n",
       "      <td>1.000000</td>\n",
       "      <td>162768.000000</td>\n",
       "      <td>82849.000000</td>\n",
       "    </tr>\n",
       "  </tbody>\n",
       "</table>\n",
       "</div>"
      ],
      "text/plain": [
       "       rating_ratio  image_count   confidence  favorite_count  retweet_count\n",
       "count        1971.0   1971.00000  1971.000000     2337.000000    2337.000000\n",
       "mean            1.0      1.20345     0.593893     7883.113393    2898.118100\n",
       "std             0.0      0.56164     0.272043    12225.430530    4889.405005\n",
       "min             1.0      1.00000     0.044333        0.000000       1.000000\n",
       "25%             1.0      1.00000     0.361530     1363.000000     582.000000\n",
       "50%             1.0      1.00000     0.587764     3425.000000    1350.000000\n",
       "75%             1.0      1.00000     0.844583     9655.000000    3378.000000\n",
       "max             1.0      4.00000     1.000000   162768.000000   82849.000000"
      ]
     },
     "execution_count": 1204,
     "metadata": {},
     "output_type": "execute_result"
    }
   ],
   "source": [
    "# descriptive statistics of the numerical variables in twitter_archive_master dataset\n",
    "twitter_archive_master.describe()"
   ]
  },
  {
   "cell_type": "markdown",
   "metadata": {},
   "source": [
    "Avergae favorite_count is greater than retweet_count's. the same applies for standard deviation and maximum value"
   ]
  },
  {
   "cell_type": "code",
   "execution_count": 1207,
   "metadata": {},
   "outputs": [
    {
     "data": {
      "text/plain": [
       "1.0    1691\n",
       "2.0     189\n",
       "3.0      61\n",
       "4.0      30\n",
       "Name: image_count, dtype: int64"
      ]
     },
     "execution_count": 1207,
     "metadata": {},
     "output_type": "execute_result"
    }
   ],
   "source": [
    "twitter_archive_master.image_count.value_counts()"
   ]
  },
  {
   "cell_type": "code",
   "execution_count": 1208,
   "metadata": {},
   "outputs": [
    {
     "data": {
      "image/png": "[encoded data removed]",
      "text/plain": [
       "<Figure size 720x360 with 1 Axes>"
      ]
     },
     "metadata": {
      "needs_background": "light"
     },
     "output_type": "display_data"
    }
   ],
   "source": [
    "# distribution of favorite_counts and retweet_count\n",
    "\n",
    "# Histograms of favorites and retweets\n",
    "plt.figure(figsize=(10, 5))\n",
    "plt.xlim(0, 60000)\n",
    "plt.ylabel('Count')\n",
    "plt.hist(twitter_archive_master.favorite_count, alpha=.8, label='Favorites')\n",
    "plt.hist(twitter_archive_master.retweet_count, alpha=.8, label='Retweets')\n",
    "plt.title('Distribution of Favorites and Retweets Counts')\n",
    "plt.legend(loc='best');"
   ]
  },
  {
   "cell_type": "code",
   "execution_count": 1209,
   "metadata": {},
   "outputs": [],
   "source": [
    "# both histograms are skewed to the right "
   ]
  },
  {
   "cell_type": "code",
   "execution_count": 742,
   "metadata": {},
   "outputs": [
    {
     "data": {
      "image/png": "[encoded data removed]",
      "text/plain": [
       "<Figure size 576x360 with 1 Axes>"
      ]
     },
     "metadata": {
      "needs_background": "light"
     },
     "output_type": "display_data"
    }
   ],
   "source": [
    "# distribution of rating_ratios\n",
    "\n",
    "# Ratings\n",
    "plt.figure(figsize = (8, 5))\n",
    "plt.xlabel('Ratings')\n",
    "plt.ylabel('Count')\n",
    "bins = [0, .1, .2, .3, .4, .5, .6, .7, .8, .9, 1, 1.1, 1.2, 1.3, 1.4]\n",
    "plt.hist(twitter_archive_master.rating_ratio, bins = bins)\n",
    "         \n",
    "plt.title('Histogram of Dog Ratings');"
   ]
  },
  {
   "cell_type": "code",
   "execution_count": 743,
   "metadata": {},
   "outputs": [],
   "source": [
    "# rating_ration are skewed to the left. there are more higher ratings than lower ones"
   ]
  },
  {
   "cell_type": "code",
   "execution_count": 1212,
   "metadata": {},
   "outputs": [
    {
     "data": {
      "text/plain": [
       "pupper           0.662295\n",
       "doggo            0.206557\n",
       "puppo            0.072131\n",
       "doggo,pupper     0.029508\n",
       "floofer          0.022951\n",
       "doggo,floofer    0.003279\n",
       "doggo,puppo      0.003279\n",
       "Name: dog_stage, dtype: float64"
      ]
     },
     "execution_count": 1212,
     "metadata": {},
     "output_type": "execute_result"
    }
   ],
   "source": [
    "# distribution of dog_categories\n",
    "twitter_archive_master.dog_stage.value_counts(normalize=True)"
   ]
  },
  {
   "cell_type": "code",
   "execution_count": 1213,
   "metadata": {},
   "outputs": [
    {
     "data": {
      "text/plain": [
       "<matplotlib.axes._subplots.AxesSubplot at 0x1a20e4d748>"
      ]
     },
     "execution_count": 1213,
     "metadata": {},
     "output_type": "execute_result"
    },
    {
     "data": {
      "image/png": "[encoded data removed]",
      "text/plain": [
       "<Figure size 432x288 with 1 Axes>"
      ]
     },
     "metadata": {
      "needs_background": "light"
     },
     "output_type": "display_data"
    }
   ],
   "source": [
    "twitter_archive_master.dog_stage.value_counts(normalize=True).plot.bar()"
   ]
  },
  {
   "cell_type": "raw",
   "metadata": {},
   "source": [
    "Pupper is the most common dog with 66%, followed by doggo (20%). floofer is the least popular with almost 3% dog population in the dataset"
   ]
  },
  {
   "cell_type": "code",
   "execution_count": 1214,
   "metadata": {},
   "outputs": [
    {
     "data": {
      "image/png": "[encoded data removed]",
      "text/plain": [
       "<Figure size 720x432 with 1 Axes>"
      ]
     },
     "metadata": {
      "needs_background": "light"
     },
     "output_type": "display_data"
    }
   ],
   "source": [
    "# Scatter plot of favorites and retweets.\n",
    "plt.figure(figsize=(10, 6))\n",
    "plt.xlim(0, 40000)\n",
    "plt.ylim(0, 19000)\n",
    "plt.xlabel('Favorites Count')\n",
    "plt.ylabel('Retweets Count')\n",
    "plt.plot(twitter_archive_master.favorite_count,twitter_archive_master.retweet_count, \n",
    "         linestyle='',marker='o', markersize=0.9)\n",
    "plt.title('Scatter Plot of Favorites and Retweets');"
   ]
  },
  {
   "cell_type": "code",
   "execution_count": 1215,
   "metadata": {},
   "outputs": [
    {
     "name": "stdout",
     "output_type": "stream",
     "text": [
      "<class 'pandas.core.frame.DataFrame'>\n",
      "Int64Index: 4308 entries, 0 to 2336\n",
      "Data columns (total 15 columns):\n",
      "tweet_id            4308 non-null object\n",
      "timestamp           1971 non-null object\n",
      "source              1971 non-null object\n",
      "text                1971 non-null object\n",
      "expanded_urls       1971 non-null object\n",
      "name                1439 non-null object\n",
      "rating_ratio        1971 non-null float64\n",
      "dog_stage           305 non-null object\n",
      "jpg_url             1971 non-null object\n",
      "image_count         1971 non-null float64\n",
      "predicted_dog       1971 non-null object\n",
      "confidence          1971 non-null float64\n",
      "breed_dog_or_not    1971 non-null object\n",
      "favorite_count      2337 non-null float64\n",
      "retweet_count       2337 non-null float64\n",
      "dtypes: float64(5), object(10)\n",
      "memory usage: 538.5+ KB\n"
     ]
    }
   ],
   "source": [
    "twitter_archive_master.info()"
   ]
  },
  {
   "cell_type": "code",
   "execution_count": 1219,
   "metadata": {},
   "outputs": [
    {
     "data": {
      "text/plain": [
       "Text(0, 0.5, 'Frequency')"
      ]
     },
     "execution_count": 1219,
     "metadata": {},
     "output_type": "execute_result"
    },
    {
     "data": {
      "image/png": "[encoded data removed]",
      "text/plain": [
       "<Figure size 432x288 with 1 Axes>"
      ]
     },
     "metadata": {
      "needs_background": "light"
     },
     "output_type": "display_data"
    }
   ],
   "source": [
    "twitter_archive_master.breed_dog_or_not.value_counts().plot.bar()\n",
    "plt.xlabel('Breed_dog')\n",
    "plt.ylabel('Frequency')"
   ]
  },
  {
   "cell_type": "code",
   "execution_count": 1220,
   "metadata": {},
   "outputs": [],
   "source": [
    "# the are more breed_dog (predicted) to be true than false."
   ]
  },
  {
   "cell_type": "code",
   "execution_count": null,
   "metadata": {},
   "outputs": [],
   "source": []
  }
 ],
 "metadata": {
  "kernelspec": {
   "display_name": "Python 3",
   "language": "python",
   "name": "python3"
  },
  "language_info": {
   "codemirror_mode": {
    "name": "ipython",
    "version": 3
   },
   "file_extension": ".py",
   "mimetype": "text/x-python",
   "name": "python",
   "nbconvert_exporter": "python",
   "pygments_lexer": "ipython3",
   "version": "3.7.4"
  }
 },
 "nbformat": 4,
 "nbformat_minor": 4
}
